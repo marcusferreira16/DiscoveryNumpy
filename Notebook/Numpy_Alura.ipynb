{
  "nbformat": 4,
  "nbformat_minor": 0,
  "metadata": {
    "colab": {
      "name": "Numpy - Alura.ipynb",
      "provenance": []
    },
    "kernelspec": {
      "name": "python3",
      "display_name": "Python 3"
    },
    "language_info": {
      "name": "python"
    }
  },
  "cells": [
    {
      "cell_type": "markdown",
      "source": [
        "# **Trabalhando com arrays Numpy**"
      ],
      "metadata": {
        "id": "Lf_GYS_rpVQu"
      }
    },
    {
      "cell_type": "code",
      "execution_count": null,
      "metadata": {
        "id": "FzugMtX-QDvH"
      },
      "outputs": [],
      "source": [
        "#importando a biblioteca numpy\n",
        "import numpy as np"
      ]
    },
    {
      "cell_type": "markdown",
      "source": [
        "**Calculando a quilometragem média de carros atrás de bases de dados externas**"
      ],
      "metadata": {
        "id": "MUMDSCYqp12B"
      }
    },
    {
      "cell_type": "code",
      "source": [
        "#importando a base de km\n",
        "km = np.loadtxt('carros-km.txt')"
      ],
      "metadata": {
        "id": "KXXqvValpgqK"
      },
      "execution_count": null,
      "outputs": []
    },
    {
      "cell_type": "code",
      "source": [
        "#visualizando o conteúdo\n",
        "km"
      ],
      "metadata": {
        "id": "jAp76ucPqHn-"
      },
      "execution_count": null,
      "outputs": []
    },
    {
      "cell_type": "code",
      "source": [
        "#importando os anos dos carros, como inteiro\n",
        "anos = np.loadtxt('carros-anos.txt', dtype = int)"
      ],
      "metadata": {
        "id": "MQu6kt1VqLGa"
      },
      "execution_count": null,
      "outputs": []
    },
    {
      "cell_type": "code",
      "source": [
        "anos"
      ],
      "metadata": {
        "id": "MT9pBpHzqaHf"
      },
      "execution_count": null,
      "outputs": []
    },
    {
      "cell_type": "markdown",
      "source": [
        "**Com os dados importados, calcular a kilometragem média**"
      ],
      "metadata": {
        "id": "h1EHjIncqwwL"
      }
    },
    {
      "cell_type": "code",
      "source": [
        "#será os quilometros pelos anos que ele tem (ano atual - ano de fabricação)\n",
        "km_media = km/(2022 - anos)"
      ],
      "metadata": {
        "id": "sM4ZLHcNqbM_"
      },
      "execution_count": null,
      "outputs": []
    },
    {
      "cell_type": "code",
      "source": [
        "#visualizando cada kilometragem média\n",
        "km_media"
      ],
      "metadata": {
        "id": "BzwgU-IUqqTm"
      },
      "execution_count": null,
      "outputs": []
    },
    {
      "cell_type": "code",
      "source": [
        "#tipo de dado\n",
        "type(km_media)"
      ],
      "metadata": {
        "colab": {
          "base_uri": "https://localhost:8080/"
        },
        "id": "R5mmkHwtri1r",
        "outputId": "8524c61e-e2c4-43e3-e05c-c4357f675dbc"
      },
      "execution_count": null,
      "outputs": [
        {
          "output_type": "execute_result",
          "data": {
            "text/plain": [
              "numpy.ndarray"
            ]
          },
          "metadata": {},
          "execution_count": 14
        }
      ]
    },
    {
      "cell_type": "markdown",
      "source": [
        "# **Operações Matemáticas**"
      ],
      "metadata": {
        "id": "AvBly1FIrzBm"
      }
    },
    {
      "cell_type": "code",
      "source": [
        "#Adição \n",
        "2+2"
      ],
      "metadata": {
        "colab": {
          "base_uri": "https://localhost:8080/"
        },
        "id": "W9y_244Grpce",
        "outputId": "5a76010d-e7df-4e0e-84db-b4396bf66461"
      },
      "execution_count": null,
      "outputs": [
        {
          "output_type": "execute_result",
          "data": {
            "text/plain": [
              "4"
            ]
          },
          "metadata": {},
          "execution_count": 15
        }
      ]
    },
    {
      "cell_type": "code",
      "source": [
        "#subtração\n",
        "2-2"
      ],
      "metadata": {
        "colab": {
          "base_uri": "https://localhost:8080/"
        },
        "id": "LV5d41A6r-6-",
        "outputId": "09af4c2b-19e3-4dfe-fcf2-09192c7a414f"
      },
      "execution_count": null,
      "outputs": [
        {
          "output_type": "execute_result",
          "data": {
            "text/plain": [
              "0"
            ]
          },
          "metadata": {},
          "execution_count": 16
        }
      ]
    },
    {
      "cell_type": "code",
      "source": [
        "#multiplicação\n",
        "2*2"
      ],
      "metadata": {
        "colab": {
          "base_uri": "https://localhost:8080/"
        },
        "id": "Z-jBPbycsAws",
        "outputId": "1ec877a9-1f92-491e-d6ed-9f47f5a36a6b"
      },
      "execution_count": null,
      "outputs": [
        {
          "output_type": "execute_result",
          "data": {
            "text/plain": [
              "4"
            ]
          },
          "metadata": {},
          "execution_count": 17
        }
      ]
    },
    {
      "cell_type": "code",
      "source": [
        "#divisão\n",
        "3/2"
      ],
      "metadata": {
        "colab": {
          "base_uri": "https://localhost:8080/"
        },
        "id": "TIcViPQ2sEAF",
        "outputId": "1e79a767-aa6c-48b3-b2bb-3ed9f9b0d30b"
      },
      "execution_count": null,
      "outputs": [
        {
          "output_type": "execute_result",
          "data": {
            "text/plain": [
              "1.5"
            ]
          },
          "metadata": {},
          "execution_count": 19
        }
      ]
    },
    {
      "cell_type": "code",
      "source": [
        "#divisão trazendo apenas o valor inteiro\n",
        "3//2"
      ],
      "metadata": {
        "colab": {
          "base_uri": "https://localhost:8080/"
        },
        "id": "dJUZps56sFbt",
        "outputId": "e1f57bd3-7c3c-4cdf-cfe4-f6a627bd0cbc"
      },
      "execution_count": null,
      "outputs": [
        {
          "output_type": "execute_result",
          "data": {
            "text/plain": [
              "1"
            ]
          },
          "metadata": {},
          "execution_count": 20
        }
      ]
    },
    {
      "cell_type": "code",
      "source": [
        "#exponenciação\n",
        "2**3"
      ],
      "metadata": {
        "colab": {
          "base_uri": "https://localhost:8080/"
        },
        "id": "vG9vFrIisLqr",
        "outputId": "e60dddf2-9ca1-46f3-e0f8-266a308e8360"
      },
      "execution_count": null,
      "outputs": [
        {
          "output_type": "execute_result",
          "data": {
            "text/plain": [
              "8"
            ]
          },
          "metadata": {},
          "execution_count": 21
        }
      ]
    },
    {
      "cell_type": "code",
      "source": [
        "#resto da divisão = 1\n",
        "10%3"
      ],
      "metadata": {
        "colab": {
          "base_uri": "https://localhost:8080/"
        },
        "id": "Q4eXyeuxsOwT",
        "outputId": "76c42d18-6103-4e34-e273-fb8cfd09ceaf"
      },
      "execution_count": null,
      "outputs": [
        {
          "output_type": "execute_result",
          "data": {
            "text/plain": [
              "1"
            ]
          },
          "metadata": {},
          "execution_count": 22
        }
      ]
    },
    {
      "cell_type": "code",
      "source": [
        "#resto da divisão = 0\n",
        "10%2"
      ],
      "metadata": {
        "colab": {
          "base_uri": "https://localhost:8080/"
        },
        "id": "S0RtliUBsTKn",
        "outputId": "2ff006e0-ed43-44d6-fdea-b2c96d6fbd22"
      },
      "execution_count": null,
      "outputs": [
        {
          "output_type": "execute_result",
          "data": {
            "text/plain": [
              "0"
            ]
          },
          "metadata": {},
          "execution_count": 23
        }
      ]
    },
    {
      "cell_type": "code",
      "source": [
        "#expressão matematica\n",
        "5*2 + 3*2"
      ],
      "metadata": {
        "colab": {
          "base_uri": "https://localhost:8080/"
        },
        "id": "JCeO5PrwsZF5",
        "outputId": "1f0db6ac-42dd-4530-9452-977eb9ffcbed"
      },
      "execution_count": null,
      "outputs": [
        {
          "output_type": "execute_result",
          "data": {
            "text/plain": [
              "16"
            ]
          },
          "metadata": {},
          "execution_count": 24
        }
      ]
    },
    {
      "cell_type": "code",
      "source": [
        "#expressão matematica com parenteses\n",
        "(5*2) + (3*2)"
      ],
      "metadata": {
        "colab": {
          "base_uri": "https://localhost:8080/"
        },
        "id": "_RDFbf82sdLf",
        "outputId": "0f908a65-947c-4376-f83b-d3690bd03776"
      },
      "execution_count": null,
      "outputs": [
        {
          "output_type": "execute_result",
          "data": {
            "text/plain": [
              "16"
            ]
          },
          "metadata": {},
          "execution_count": 25
        }
      ]
    },
    {
      "cell_type": "code",
      "source": [
        "#podendo fazer de forma \"errada/não usual\"\n",
        "5 * (2+3) * 2"
      ],
      "metadata": {
        "colab": {
          "base_uri": "https://localhost:8080/"
        },
        "id": "_QFFcirUsjXp",
        "outputId": "5285a8d9-140d-4f2c-f90e-616c2bd01c2b"
      },
      "execution_count": null,
      "outputs": [
        {
          "output_type": "execute_result",
          "data": {
            "text/plain": [
              "50"
            ]
          },
          "metadata": {},
          "execution_count": 26
        }
      ]
    },
    {
      "cell_type": "code",
      "source": [
        "#variável _ é a memória do python, sendo o último valor\n",
        "_"
      ],
      "metadata": {
        "colab": {
          "base_uri": "https://localhost:8080/"
        },
        "id": "khtXO_c6sq5Z",
        "outputId": "fd7ba489-4e1e-45e0-a3ed-c212b8510c0e"
      },
      "execution_count": null,
      "outputs": [
        {
          "output_type": "execute_result",
          "data": {
            "text/plain": [
              "50"
            ]
          },
          "metadata": {},
          "execution_count": 27
        }
      ]
    },
    {
      "cell_type": "code",
      "source": [
        "#podendo usar o valor para contas\n",
        "_ * 3*2"
      ],
      "metadata": {
        "colab": {
          "base_uri": "https://localhost:8080/"
        },
        "id": "cf-RIHQHsxVl",
        "outputId": "ea937aa0-e177-4d42-9bca-4972c79f5648"
      },
      "execution_count": null,
      "outputs": [
        {
          "output_type": "execute_result",
          "data": {
            "text/plain": [
              "300"
            ]
          },
          "metadata": {},
          "execution_count": 28
        }
      ]
    },
    {
      "cell_type": "code",
      "source": [
        "#outro exemplo\n",
        "_ / 2"
      ],
      "metadata": {
        "colab": {
          "base_uri": "https://localhost:8080/"
        },
        "id": "62s5m493s4cd",
        "outputId": "63f95089-30c2-4637-d6a3-c56708515ad8"
      },
      "execution_count": null,
      "outputs": [
        {
          "output_type": "execute_result",
          "data": {
            "text/plain": [
              "150.0"
            ]
          },
          "metadata": {},
          "execution_count": 29
        }
      ]
    },
    {
      "cell_type": "code",
      "source": [
        ""
      ],
      "metadata": {
        "id": "sDHrQxJrs7YQ"
      },
      "execution_count": null,
      "outputs": []
    },
    {
      "cell_type": "markdown",
      "source": [
        "# **Variáveis**"
      ],
      "metadata": {
        "id": "mzq2836vtMqq"
      }
    },
    {
      "cell_type": "code",
      "source": [
        "#declaração de variáveis\n",
        "ano_atual = 2022\n",
        "ano_fabricacao = 2003\n",
        "km_total = 44410.0"
      ],
      "metadata": {
        "id": "nrXOGaUotSO-"
      },
      "execution_count": null,
      "outputs": []
    },
    {
      "cell_type": "code",
      "source": [
        "#utilizando as variáveis declaradas para cálculo da quilometragem média\n",
        "km_media = km_total/(ano_atual - ano_fabricacao)\n",
        "km_media"
      ],
      "metadata": {
        "colab": {
          "base_uri": "https://localhost:8080/"
        },
        "id": "5BsLejDWtl8I",
        "outputId": "53eec988-c7a1-40b5-ad2c-ec2bd2bde2b1"
      },
      "execution_count": null,
      "outputs": [
        {
          "output_type": "execute_result",
          "data": {
            "text/plain": [
              "2337.3684210526317"
            ]
          },
          "metadata": {},
          "execution_count": 37
        }
      ]
    },
    {
      "cell_type": "code",
      "source": [
        "#não precisamos fazer tudo separado, podemos fazer em uma única célula, tudo de uma vez\n",
        "ano_atual = 2022\n",
        "ano_fabricacao = 2003\n",
        "km_total = 44410.0\n",
        "km_media = km_total/(ano_atual - ano_fabricacao)\n",
        "km_media"
      ],
      "metadata": {
        "colab": {
          "base_uri": "https://localhost:8080/"
        },
        "id": "V4ghjGSZtzjn",
        "outputId": "902e04b2-edf5-4b76-ae34-f0eda948efa2"
      },
      "execution_count": null,
      "outputs": [
        {
          "output_type": "execute_result",
          "data": {
            "text/plain": [
              "2337.3684210526317"
            ]
          },
          "metadata": {},
          "execution_count": 38
        }
      ]
    },
    {
      "cell_type": "code",
      "source": [
        "#supondo que o carro irá manter sua quilometragem média, qual será a quilometragem total em 2023?\n",
        "#lembrando que km_total era o quanto ele tinha em 2022 e adicionamos a km_media\n",
        "ano_atual = 2022\n",
        "ano_fabricacao = 2003\n",
        "km_total = 44410.0\n",
        "km_media = km_total/(ano_atual - ano_fabricacao)\n",
        "km_media\n",
        "\n",
        "km_total = km_total + km_media\n",
        "km_total"
      ],
      "metadata": {
        "colab": {
          "base_uri": "https://localhost:8080/"
        },
        "id": "dEn09lZytx7F",
        "outputId": "954b5126-edab-4a95-97d4-964efee73d86"
      },
      "execution_count": null,
      "outputs": [
        {
          "output_type": "execute_result",
          "data": {
            "text/plain": [
              "46747.36842105263"
            ]
          },
          "metadata": {},
          "execution_count": 46
        }
      ]
    },
    {
      "cell_type": "code",
      "source": [
        "#podemos deixar mais simples, adicionando apenas um + antes do =, não precisando mencional km_total:\n",
        "#os códigos são equivalentes\n",
        "ano_atual = 2022\n",
        "ano_fabricacao = 2003\n",
        "km_total = 44410.0\n",
        "km_media = km_total/(ano_atual - ano_fabricacao)\n",
        "km_media\n",
        "\n",
        "km_total += km_media\n",
        "km_total\n",
        "\n",
        "#valor = valor + 1 é igual a valor += 1"
      ],
      "metadata": {
        "colab": {
          "base_uri": "https://localhost:8080/"
        },
        "id": "-5KBGCH_urKR",
        "outputId": "a941f773-9b96-4858-9c6d-a871622de322"
      },
      "execution_count": null,
      "outputs": [
        {
          "output_type": "execute_result",
          "data": {
            "text/plain": [
              "46747.36842105263"
            ]
          },
          "metadata": {},
          "execution_count": 47
        }
      ]
    },
    {
      "cell_type": "markdown",
      "source": [
        "**Declaração multipla**"
      ],
      "metadata": {
        "id": "tNLVVeVxvOMw"
      }
    },
    {
      "cell_type": "code",
      "source": [
        "#simplificando o código\n",
        "ano_atual_, ano_fabricacao, km_total = 2022, 2003, 44410.0"
      ],
      "metadata": {
        "id": "Oi80jBJlvN21"
      },
      "execution_count": null,
      "outputs": []
    },
    {
      "cell_type": "markdown",
      "source": [
        "# **Tipos de dados**"
      ],
      "metadata": {
        "id": "KXJBM7Jfvrh5"
      }
    },
    {
      "cell_type": "markdown",
      "source": [
        "**Números**"
      ],
      "metadata": {
        "id": "6HeNRmSDxjVV"
      }
    },
    {
      "cell_type": "code",
      "source": [
        "#números inteiros\n",
        "ano_atual = 2019\n",
        "type(ano_atual)"
      ],
      "metadata": {
        "colab": {
          "base_uri": "https://localhost:8080/"
        },
        "id": "okvkVFgyvwSr",
        "outputId": "b3aa4a29-2d86-422e-8ef6-b0e361eb324e"
      },
      "execution_count": null,
      "outputs": [
        {
          "output_type": "execute_result",
          "data": {
            "text/plain": [
              "int"
            ]
          },
          "metadata": {},
          "execution_count": 50
        }
      ]
    },
    {
      "cell_type": "code",
      "source": [
        "#numeros decimais\n",
        "km_total = 44410.0\n",
        "type(km_total)"
      ],
      "metadata": {
        "colab": {
          "base_uri": "https://localhost:8080/"
        },
        "id": "L_viqam2wNIu",
        "outputId": "eab26859-df2d-4979-d5ce-a5ac47447375"
      },
      "execution_count": null,
      "outputs": [
        {
          "output_type": "execute_result",
          "data": {
            "text/plain": [
              "float"
            ]
          },
          "metadata": {},
          "execution_count": 51
        }
      ]
    },
    {
      "cell_type": "markdown",
      "source": [
        "**Booleano**"
      ],
      "metadata": {
        "id": "uMPPtopAxoSM"
      }
    },
    {
      "cell_type": "code",
      "source": [
        "#booleano = true\n",
        "zero_km = True\n",
        "type(zero_km)"
      ],
      "metadata": {
        "colab": {
          "base_uri": "https://localhost:8080/"
        },
        "id": "OG-n8XBvwXmS",
        "outputId": "8dcb2b7b-f864-4ab1-cdff-51bd921ca0ea"
      },
      "execution_count": null,
      "outputs": [
        {
          "output_type": "execute_result",
          "data": {
            "text/plain": [
              "bool"
            ]
          },
          "metadata": {},
          "execution_count": 54
        }
      ]
    },
    {
      "cell_type": "code",
      "source": [
        "#booleano - false\n",
        "zero_km = False\n",
        "type(zero_km)"
      ],
      "metadata": {
        "colab": {
          "base_uri": "https://localhost:8080/"
        },
        "id": "qgnCunApwfc2",
        "outputId": "d6a79368-2731-45c0-914e-1a6dab0ced3f"
      },
      "execution_count": null,
      "outputs": [
        {
          "output_type": "execute_result",
          "data": {
            "text/plain": [
              "bool"
            ]
          },
          "metadata": {},
          "execution_count": 53
        }
      ]
    },
    {
      "cell_type": "markdown",
      "source": [
        "**String**"
      ],
      "metadata": {
        "id": "U5Wx_Pz6xphG"
      }
    },
    {
      "cell_type": "code",
      "source": [
        "#string usamos tanto aspas duplas como simples\n",
        "nome = 'Jetta Variant'\n",
        "nome"
      ],
      "metadata": {
        "colab": {
          "base_uri": "https://localhost:8080/",
          "height": 35
        },
        "id": "O5-F68bXwjz1",
        "outputId": "0dac57f0-de1c-4323-eaa7-b479feb8b15d"
      },
      "execution_count": null,
      "outputs": [
        {
          "output_type": "execute_result",
          "data": {
            "application/vnd.google.colaboratory.intrinsic+json": {
              "type": "string"
            },
            "text/plain": [
              "'Jetta Variant'"
            ]
          },
          "metadata": {},
          "execution_count": 60
        }
      ]
    },
    {
      "cell_type": "code",
      "source": [
        "#string usamos tanto aspas duplas como simples\n",
        "nome = \"Jetta Variant\"\n",
        "type(nome)"
      ],
      "metadata": {
        "colab": {
          "base_uri": "https://localhost:8080/"
        },
        "id": "mUbryf3BwpVd",
        "outputId": "023c9381-ed85-4110-9614-f5dbdef0c677"
      },
      "execution_count": null,
      "outputs": [
        {
          "output_type": "execute_result",
          "data": {
            "text/plain": [
              "str"
            ]
          },
          "metadata": {},
          "execution_count": 59
        }
      ]
    },
    {
      "cell_type": "code",
      "source": [
        "#caso queriamos fazer uma citação dentro da string, usamos aspas diferentes da que iniciamos o texto\n",
        "nome = 'Jetta \"Variant\"'\n",
        "nome"
      ],
      "metadata": {
        "colab": {
          "base_uri": "https://localhost:8080/",
          "height": 35
        },
        "id": "o1v_WC9Cw-Im",
        "outputId": "81152a14-197a-4961-e283-1d490c5d42de"
      },
      "execution_count": null,
      "outputs": [
        {
          "output_type": "execute_result",
          "data": {
            "application/vnd.google.colaboratory.intrinsic+json": {
              "type": "string"
            },
            "text/plain": [
              "'Jetta \"Variant\"'"
            ]
          },
          "metadata": {},
          "execution_count": 61
        }
      ]
    },
    {
      "cell_type": "code",
      "source": [
        "#string com mais de uma linha\n",
        "carro = '''\n",
        "Nome\n",
        "Idade\n",
        "Nota\n",
        "'''\n",
        "carro\n",
        "#\\n quer dizer que ele pulou uma linha"
      ],
      "metadata": {
        "colab": {
          "base_uri": "https://localhost:8080/",
          "height": 35
        },
        "id": "X9ZcjrKaxFzm",
        "outputId": "a5827926-feed-49ce-9a93-7306a48b7702"
      },
      "execution_count": null,
      "outputs": [
        {
          "output_type": "execute_result",
          "data": {
            "application/vnd.google.colaboratory.intrinsic+json": {
              "type": "string"
            },
            "text/plain": [
              "'\\nNome\\nIdade\\nNota\\n'"
            ]
          },
          "metadata": {},
          "execution_count": 63
        }
      ]
    },
    {
      "cell_type": "markdown",
      "source": [
        "**None = nulo**"
      ],
      "metadata": {
        "id": "PvxO_a4dxsSM"
      }
    },
    {
      "cell_type": "code",
      "source": [
        "#tipo none = valor nulo\n",
        "quilometragem = None\n",
        "type(quilometragem)"
      ],
      "metadata": {
        "colab": {
          "base_uri": "https://localhost:8080/"
        },
        "id": "SR8M0jjVxZEj",
        "outputId": "3425cffa-8ccc-4773-9cd5-0b0e88a01383"
      },
      "execution_count": null,
      "outputs": [
        {
          "output_type": "execute_result",
          "data": {
            "text/plain": [
              "NoneType"
            ]
          },
          "metadata": {},
          "execution_count": 65
        }
      ]
    },
    {
      "cell_type": "markdown",
      "source": [
        "# **Conversão de tipos de dados**"
      ],
      "metadata": {
        "id": "M3INhSBqy3be"
      }
    },
    {
      "cell_type": "code",
      "source": [
        "a = 10\n",
        "b = 20\n",
        "c = 'Python é '\n",
        "d = 'legal'"
      ],
      "metadata": {
        "id": "9SvGY2Rny3AZ"
      },
      "execution_count": null,
      "outputs": []
    },
    {
      "cell_type": "code",
      "source": [
        "print(type(a))\n",
        "print(type(b))\n",
        "print(type(c))\n",
        "print(type(d))"
      ],
      "metadata": {
        "colab": {
          "base_uri": "https://localhost:8080/"
        },
        "id": "kvjqJENqzC1M",
        "outputId": "4f068ce7-4ee6-413d-c0b2-3e281bf6ebd5"
      },
      "execution_count": null,
      "outputs": [
        {
          "output_type": "stream",
          "name": "stdout",
          "text": [
            "<class 'int'>\n",
            "<class 'int'>\n",
            "<class 'str'>\n",
            "<class 'str'>\n"
          ]
        }
      ]
    },
    {
      "cell_type": "code",
      "source": [
        "#somando as variáveis a + b\n",
        "a+b"
      ],
      "metadata": {
        "colab": {
          "base_uri": "https://localhost:8080/"
        },
        "id": "2hbi1ttezGAv",
        "outputId": "f28fd02a-2044-419f-bce8-833f35d2efbe"
      },
      "execution_count": null,
      "outputs": [
        {
          "output_type": "execute_result",
          "data": {
            "text/plain": [
              "30"
            ]
          },
          "metadata": {},
          "execution_count": 69
        }
      ]
    },
    {
      "cell_type": "code",
      "source": [
        "#somando as variaveis c e d\n",
        "c+d\n",
        "#notamos que concatena as strings"
      ],
      "metadata": {
        "colab": {
          "base_uri": "https://localhost:8080/",
          "height": 35
        },
        "id": "Px5LXkvkzS-o",
        "outputId": "669f6539-e461-4bbd-db7f-5e9f73d83728"
      },
      "execution_count": null,
      "outputs": [
        {
          "output_type": "execute_result",
          "data": {
            "application/vnd.google.colaboratory.intrinsic+json": {
              "type": "string"
            },
            "text/plain": [
              "'Python é legal'"
            ]
          },
          "metadata": {},
          "execution_count": 70
        }
      ]
    },
    {
      "cell_type": "markdown",
      "source": [
        "**int(), float() e str()**"
      ],
      "metadata": {
        "id": "3F-k5MUpzv4B"
      }
    },
    {
      "cell_type": "code",
      "source": [
        "#podemos tentar escrever 'Python é 10'\n",
        "c + str(a)\n",
        "\n",
        "#convertemos a para string, pois o python não consegue somar e/ou concatenar valores inteiros com strings"
      ],
      "metadata": {
        "colab": {
          "base_uri": "https://localhost:8080/",
          "height": 35
        },
        "id": "7C3hHM-BzYyE",
        "outputId": "30b0c0d6-2549-4554-a17b-7903f98104dd"
      },
      "execution_count": null,
      "outputs": [
        {
          "output_type": "execute_result",
          "data": {
            "application/vnd.google.colaboratory.intrinsic+json": {
              "type": "string"
            },
            "text/plain": [
              "'Python é 10'"
            ]
          },
          "metadata": {},
          "execution_count": 73
        }
      ]
    },
    {
      "cell_type": "code",
      "source": [
        "#podemos transformar um valor inteiro em um decimal\n",
        "float(a)"
      ],
      "metadata": {
        "colab": {
          "base_uri": "https://localhost:8080/"
        },
        "id": "P-ydIOaCzgCn",
        "outputId": "72419880-dba0-47b3-a719-968b82585e1f"
      },
      "execution_count": null,
      "outputs": [
        {
          "output_type": "execute_result",
          "data": {
            "text/plain": [
              "10.0"
            ]
          },
          "metadata": {},
          "execution_count": 74
        }
      ]
    },
    {
      "cell_type": "code",
      "source": [
        "var = 3.99\n",
        "type(var)"
      ],
      "metadata": {
        "colab": {
          "base_uri": "https://localhost:8080/"
        },
        "id": "xYkqonlMzeGH",
        "outputId": "50842938-6da8-4ecb-daa2-156350e5eee3"
      },
      "execution_count": null,
      "outputs": [
        {
          "output_type": "execute_result",
          "data": {
            "text/plain": [
              "float"
            ]
          },
          "metadata": {},
          "execution_count": 77
        }
      ]
    },
    {
      "cell_type": "code",
      "source": [
        "int(var)"
      ],
      "metadata": {
        "colab": {
          "base_uri": "https://localhost:8080/"
        },
        "id": "Fa4T_TKk0EOu",
        "outputId": "0f63f963-2cfa-43db-fec3-294304357de9"
      },
      "execution_count": null,
      "outputs": [
        {
          "output_type": "execute_result",
          "data": {
            "text/plain": [
              "3"
            ]
          },
          "metadata": {},
          "execution_count": 78
        }
      ]
    },
    {
      "cell_type": "code",
      "source": [
        "#int é diferente de arredondamento, isto porque arredondar ele pega o valor mais proximo e int pega o valor inteiro, vamos ver a diferença:\n",
        "print(f'Usando a função int() na variável var = 3.99 retorna o seguinte valor:', int(var))\n",
        "print(f'Usando a função round() na variável var = 3.99 retorno o seguinte valor:', round(var))"
      ],
      "metadata": {
        "colab": {
          "base_uri": "https://localhost:8080/"
        },
        "id": "Gl4un-kP0Ku4",
        "outputId": "e5c6d522-54ba-4090-8c9a-be53e02d9552"
      },
      "execution_count": null,
      "outputs": [
        {
          "output_type": "stream",
          "name": "stdout",
          "text": [
            "Usando a função int() na variável var = 3.99 retorna o seguinte valor: 3\n",
            "Usando a função round() na variável var = 3.99 retorno o seguinte valor: 4\n"
          ]
        }
      ]
    },
    {
      "cell_type": "markdown",
      "source": [
        "# **Indentação, comentários e formatação de strings**"
      ],
      "metadata": {
        "id": "8WtPLcDK1WpD"
      }
    },
    {
      "cell_type": "markdown",
      "source": [
        "**Indentação**"
      ],
      "metadata": {
        "id": "J8PnmCqD2G1V"
      }
    },
    {
      "cell_type": "code",
      "source": [
        "#importancia da indentação\n",
        "ano_atual = 2022\n",
        "ano_fabricacao = 2019\n",
        "\n",
        "if (ano_atual == ano_fabricacao):\n",
        "  print('Verdadeiro')\n",
        "else: \n",
        "#print('False')\n",
        "  print('False')\n",
        "\n",
        "#o código comentado mostra que não possuia indentação, já a próxima linha mostra a indentação necessária"
      ],
      "metadata": {
        "colab": {
          "base_uri": "https://localhost:8080/"
        },
        "id": "P2r9uk921flY",
        "outputId": "7b6f756b-8ccd-4764-e2cf-469ff3a5e84d"
      },
      "execution_count": null,
      "outputs": [
        {
          "output_type": "stream",
          "name": "stdout",
          "text": [
            "Verdadeiro\n"
          ]
        }
      ]
    },
    {
      "cell_type": "markdown",
      "source": [
        "**Comentários**"
      ],
      "metadata": {
        "id": "1oJdDOzj2LSI"
      }
    },
    {
      "cell_type": "code",
      "source": [
        "#Isto é um comentário\n",
        "ano_atual = 2022 #ano que estamos estudando\n",
        "ano_comecei = 2019 #ano que começamos a estudar\n",
        "\n",
        "#comentários são boas práticas para guiar as pessoas e deixar catalogado o que \n",
        "#é cada coisa, sua importância e deixa um entendimento mais fácil"
      ],
      "metadata": {
        "id": "hjUv_Htu1-VF"
      },
      "execution_count": null,
      "outputs": []
    },
    {
      "cell_type": "code",
      "source": [
        "#comentando um pequeno código\n",
        "ano_atual = 2022            #ano que estamos\n",
        "ano_fabricacao = 2019       #ano que foi fabricado o carro\n",
        "\n",
        "#se o ano que estamos for igual ao ano que o carro foi fabricado\n",
        "if (ano_atual == ano_fabricacao):\n",
        "  print('Verdadeiro')       #exiba na tela verdadeiro\n",
        "else:                       #caso contrário\n",
        "  print('False')            #exiba na tela falso"
      ],
      "metadata": {
        "id": "KOoLWPJA2nAc"
      },
      "execution_count": null,
      "outputs": []
    },
    {
      "cell_type": "markdown",
      "source": [
        "**Formatação de strings**"
      ],
      "metadata": {
        "id": "Vnm9IsuH3HC5"
      }
    },
    {
      "cell_type": "code",
      "source": [
        "#exiba na tela um parâmetro passado\n",
        "print('Oi, {}!'.format('Rodrigo'))"
      ],
      "metadata": {
        "colab": {
          "base_uri": "https://localhost:8080/"
        },
        "id": "8Eep36HR3GOb",
        "outputId": "cac006a6-0214-4de8-f0f4-39889e1b59ab"
      },
      "execution_count": null,
      "outputs": [
        {
          "output_type": "stream",
          "name": "stdout",
          "text": [
            "Oi, Rodrigo!\n"
          ]
        }
      ]
    },
    {
      "cell_type": "code",
      "source": [
        "#podendo passar mais de um parâmetro\n",
        "print('Oi, {}! Este é seu acesso de número {}'.format('Rodrigo', 44))"
      ],
      "metadata": {
        "colab": {
          "base_uri": "https://localhost:8080/"
        },
        "id": "jIQiIjHj3f9m",
        "outputId": "5219261e-31d7-4f60-f2cf-50346f061d90"
      },
      "execution_count": null,
      "outputs": [
        {
          "output_type": "stream",
          "name": "stdout",
          "text": [
            "Oi, Rodrigo! Este é seu acesso de número 44\n"
          ]
        }
      ]
    },
    {
      "cell_type": "code",
      "source": [
        "#podemos nomear as variáveis\n",
        "print('Oi, {nome}! Este é seu acesso de número {acesso}'.format(nome='Rodrigo', acesso=44))"
      ],
      "metadata": {
        "colab": {
          "base_uri": "https://localhost:8080/"
        },
        "id": "bEyWvW153sKm",
        "outputId": "398138c7-c9a8-4483-de2c-18081c1261de"
      },
      "execution_count": null,
      "outputs": [
        {
          "output_type": "stream",
          "name": "stdout",
          "text": [
            "Oi, Rodrigo! Este é seu acesso de número 44\n"
          ]
        }
      ]
    },
    {
      "cell_type": "code",
      "source": [
        "#podendo utilizar variáveis já criadas (formato mais novo)\n",
        "nome='Rodrigo'\n",
        "acesso=44\n",
        "\n",
        "print(f'Oi, {nome}! Este é seu acesso de número {acesso}')"
      ],
      "metadata": {
        "colab": {
          "base_uri": "https://localhost:8080/"
        },
        "id": "9x_zp0Vp30qH",
        "outputId": "59f72673-90cc-4d61-c2f6-a2b0e6d73455"
      },
      "execution_count": null,
      "outputs": [
        {
          "output_type": "stream",
          "name": "stdout",
          "text": [
            "Oi, Rodrigo! Este é seu acesso de número 44\n"
          ]
        }
      ]
    },
    {
      "cell_type": "markdown",
      "source": [
        "# **Criando Listas**"
      ],
      "metadata": {
        "id": "pSLhEd75uxt4"
      }
    },
    {
      "cell_type": "code",
      "source": [
        "#usamos listas para armanezar coleção de itens em sequencias mutáveis, para fazer uma lista utilizamos []\n",
        "acessorios = ['Rodas de liga', 'Travas elétricas', 'Piloto automático', 'Bancos de couro', 'Ar condicionado', 'Sensor de estacionamento', 'Sensor crepuscular', 'Sensor de chuva']\n",
        "acessorios"
      ],
      "metadata": {
        "colab": {
          "base_uri": "https://localhost:8080/"
        },
        "id": "IERON_BLu1Z4",
        "outputId": "bc795f22-499e-49fb-af0b-e37330330979"
      },
      "execution_count": null,
      "outputs": [
        {
          "output_type": "execute_result",
          "data": {
            "text/plain": [
              "['Rodas de liga',\n",
              " 'Travas elétricas',\n",
              " 'Piloto automático',\n",
              " 'Bancos de couro',\n",
              " 'Ar condicionado',\n",
              " 'Sensor de estacionamento',\n",
              " 'Sensor crepuscular',\n",
              " 'Sensor de chuva']"
            ]
          },
          "metadata": {},
          "execution_count": 3
        }
      ]
    },
    {
      "cell_type": "code",
      "source": [
        "type(acessorios)"
      ],
      "metadata": {
        "colab": {
          "base_uri": "https://localhost:8080/"
        },
        "id": "yoH2fhv-vPmz",
        "outputId": "ceaada69-ff0e-4afc-9200-594c8ee5b555"
      },
      "execution_count": null,
      "outputs": [
        {
          "output_type": "execute_result",
          "data": {
            "text/plain": [
              "list"
            ]
          },
          "metadata": {},
          "execution_count": 4
        }
      ]
    },
    {
      "cell_type": "code",
      "source": [
        "#podemos guardar diversos tipos de itens, inclusive listas em listas:\n",
        "Carro_1 = ['Jetta Variant', 'Motor 4.0 Turbo', 2003, 44410.0, False, ['Rodas de liga', 'Travas elétricas', 'Piloto automático'], 88078.64]\n",
        "Carro_2 = ['Passat', 'Motor Diesel', 1991, 5712.0, False, ['Central multimídia', 'Teto panorâmico', 'Freios ABS'], 106161.94]"
      ],
      "metadata": {
        "id": "VhWKwpd1vZ56"
      },
      "execution_count": null,
      "outputs": []
    },
    {
      "cell_type": "code",
      "source": [
        "Carro_1"
      ],
      "metadata": {
        "colab": {
          "base_uri": "https://localhost:8080/"
        },
        "id": "J5GBCbanvjJ-",
        "outputId": "d79781f5-2988-4b0c-db0e-ddcba81c51c1"
      },
      "execution_count": null,
      "outputs": [
        {
          "output_type": "execute_result",
          "data": {
            "text/plain": [
              "['Jetta Variant',\n",
              " 'Motor 4.0 Turbo',\n",
              " 2003,\n",
              " 44410.0,\n",
              " False,\n",
              " ['Rodas de liga', 'Travas elétricas', 'Piloto automático'],\n",
              " 88078.64]"
            ]
          },
          "metadata": {},
          "execution_count": 7
        }
      ]
    },
    {
      "cell_type": "code",
      "source": [
        "Carro_2"
      ],
      "metadata": {
        "colab": {
          "base_uri": "https://localhost:8080/"
        },
        "id": "4vHR4-yYvltW",
        "outputId": "e3e11a31-10be-41a7-dc86-a7b164985b53"
      },
      "execution_count": null,
      "outputs": [
        {
          "output_type": "execute_result",
          "data": {
            "text/plain": [
              "['Passat',\n",
              " 'Motor Diesel',\n",
              " 1991,\n",
              " 5712.0,\n",
              " False,\n",
              " ['Central multimídia', 'Teto panorâmico', 'Freios ABS'],\n",
              " 106161.94]"
            ]
          },
          "metadata": {},
          "execution_count": 8
        }
      ]
    },
    {
      "cell_type": "code",
      "source": [
        "#como listas podem ter listas dentro, podemos criar listas a partir de variáveis que são do tipo lista\n",
        "carros = [Carro_1, Carro_2]\n",
        "carros"
      ],
      "metadata": {
        "colab": {
          "base_uri": "https://localhost:8080/"
        },
        "id": "AO9dcKmYv_S6",
        "outputId": "a7cc1daa-06df-4480-ee09-7c399830e3df"
      },
      "execution_count": null,
      "outputs": [
        {
          "output_type": "execute_result",
          "data": {
            "text/plain": [
              "[['Jetta Variant',\n",
              "  'Motor 4.0 Turbo',\n",
              "  2003,\n",
              "  44410.0,\n",
              "  False,\n",
              "  ['Rodas de liga', 'Travas elétricas', 'Piloto automático'],\n",
              "  88078.64],\n",
              " ['Passat',\n",
              "  'Motor Diesel',\n",
              "  1991,\n",
              "  5712.0,\n",
              "  False,\n",
              "  ['Central multimídia', 'Teto panorâmico', 'Freios ABS'],\n",
              "  106161.94]]"
            ]
          },
          "metadata": {},
          "execution_count": 12
        }
      ]
    },
    {
      "cell_type": "markdown",
      "source": [
        "# **Operações com Listas**"
      ],
      "metadata": {
        "id": "3JHz_mMiwaJH"
      }
    },
    {
      "cell_type": "code",
      "source": [
        "#como identificar se um item está dentro de uma lista\n",
        "'Rodas de liga' in acessorios\n",
        "#x in A = o que procuramos in variável/tabela"
      ],
      "metadata": {
        "id": "Wb1NszwVweXA"
      },
      "execution_count": null,
      "outputs": []
    },
    {
      "cell_type": "code",
      "source": [
        "#vamos conferir se tem 4x4 em acessorios\n",
        "'4x4' in acessorios"
      ],
      "metadata": {
        "id": "6a7kYV8lxHoH"
      },
      "execution_count": null,
      "outputs": []
    },
    {
      "cell_type": "code",
      "source": [
        "#da mesma forma que perguntamos se o valor procurado está dentro da variável, podemos perguntar se não está dentro:\n",
        "'Rodas de liga' not in acessorios\n",
        "#neste caso retorna False, pois 'Rodas de liga' está (in) acessorios."
      ],
      "metadata": {
        "id": "8DG3VJvnxOI2"
      },
      "execution_count": null,
      "outputs": []
    },
    {
      "cell_type": "markdown",
      "source": [
        "**Concatenando listas**"
      ],
      "metadata": {
        "id": "bV4-f_ifxp0D"
      }
    },
    {
      "cell_type": "code",
      "source": [
        "#nossas listas que usaremos\n",
        "A = ['Rodas de liga', 'Travas elétricas', 'Piloto automático', 'Bancos de couro']\n",
        "B = ['Ar condicionado', 'Sensor de estacionamento', 'Sensor crepuscular', 'Sensor de chuva']"
      ],
      "metadata": {
        "id": "ZuTEcfEIxi5A"
      },
      "execution_count": null,
      "outputs": []
    },
    {
      "cell_type": "code",
      "source": [
        ""
      ],
      "metadata": {
        "id": "5CflVosqzB7_"
      },
      "execution_count": null,
      "outputs": []
    },
    {
      "cell_type": "code",
      "source": [
        "#concatenando as listas\n",
        "C = A + B\n",
        "#\"juntamos\" as listas, neste caso criou uma nova lista com as duas listas juntas, ou seja, 8 itens "
      ],
      "metadata": {
        "id": "NktkbZIDxy2R"
      },
      "execution_count": null,
      "outputs": []
    },
    {
      "cell_type": "code",
      "source": [
        "#caso fosse uma lista maior e precisariamos contar, podemos utilizar a função build-in len()\n",
        "len(C)\n",
        "\n",
        "#ou\n",
        "\n",
        "len (A+B)"
      ],
      "metadata": {
        "colab": {
          "base_uri": "https://localhost:8080/"
        },
        "id": "N_EqySj4yMWg",
        "outputId": "3a6f5d41-04cb-4a44-8333-e2935cc7ce6c"
      },
      "execution_count": null,
      "outputs": [
        {
          "output_type": "execute_result",
          "data": {
            "text/plain": [
              "8"
            ]
          },
          "metadata": {},
          "execution_count": 25
        }
      ]
    },
    {
      "cell_type": "markdown",
      "source": [
        "# **Seleções em listas**\n",
        "Listas tem indexação com origem no zero"
      ],
      "metadata": {
        "id": "BRAuN1XZy_pr"
      }
    },
    {
      "cell_type": "markdown",
      "source": [
        "**A[i]**\n",
        "Retorna o i-ésimo item da lista A."
      ],
      "metadata": {
        "id": "QunQN5to0nvk"
      }
    },
    {
      "cell_type": "code",
      "source": [
        "#A[i] retorna o i-ésimo item da lista A\n",
        "acessorios = ['Rodas de liga', 'Travas elétricas', 'Piloto automático', 'Bancos de couro', 'Ar condicionado', 'Sensor de estacionamento', 'Sensor crepuscular', 'Sensor de chuva']\n",
        "acessorios"
      ],
      "metadata": {
        "colab": {
          "base_uri": "https://localhost:8080/"
        },
        "id": "0IS0QopDzDQm",
        "outputId": "70c6069a-621f-4ea1-94b8-bb74e50272ab"
      },
      "execution_count": null,
      "outputs": [
        {
          "output_type": "execute_result",
          "data": {
            "text/plain": [
              "['Rodas de liga',\n",
              " 'Travas elétricas',\n",
              " 'Piloto automático',\n",
              " 'Bancos de couro',\n",
              " 'Ar condicionado',\n",
              " 'Sensor de estacionamento',\n",
              " 'Sensor crepuscular',\n",
              " 'Sensor de chuva']"
            ]
          },
          "metadata": {},
          "execution_count": 26
        }
      ]
    },
    {
      "cell_type": "code",
      "source": [
        "#acessando rodas de liga\n",
        "acessorios[0]"
      ],
      "metadata": {
        "colab": {
          "base_uri": "https://localhost:8080/",
          "height": 35
        },
        "id": "mAUNhITOzbFG",
        "outputId": "4ae52641-5e65-4a18-b47d-c08f50a13aad"
      },
      "execution_count": null,
      "outputs": [
        {
          "output_type": "execute_result",
          "data": {
            "application/vnd.google.colaboratory.intrinsic+json": {
              "type": "string"
            },
            "text/plain": [
              "'Rodas de liga'"
            ]
          },
          "metadata": {},
          "execution_count": 27
        }
      ]
    },
    {
      "cell_type": "code",
      "source": [
        "#acessando o item piloto automatico\n",
        "acessorios[2]"
      ],
      "metadata": {
        "colab": {
          "base_uri": "https://localhost:8080/",
          "height": 35
        },
        "id": "OzbCDUsBzeSK",
        "outputId": "a5efe3b4-171c-467f-d0c4-b1d3ab8f92ce"
      },
      "execution_count": null,
      "outputs": [
        {
          "output_type": "execute_result",
          "data": {
            "application/vnd.google.colaboratory.intrinsic+json": {
              "type": "string"
            },
            "text/plain": [
              "'Piloto automático'"
            ]
          },
          "metadata": {},
          "execution_count": 28
        }
      ]
    },
    {
      "cell_type": "code",
      "source": [
        "#acessando o ultimo item da lista\n",
        "acessorios[-1]"
      ],
      "metadata": {
        "colab": {
          "base_uri": "https://localhost:8080/",
          "height": 35
        },
        "id": "Igy8mmQzzlTW",
        "outputId": "73598d3d-1f34-4e0c-9704-301790ad4d81"
      },
      "execution_count": null,
      "outputs": [
        {
          "output_type": "execute_result",
          "data": {
            "application/vnd.google.colaboratory.intrinsic+json": {
              "type": "string"
            },
            "text/plain": [
              "'Sensor de chuva'"
            ]
          },
          "metadata": {},
          "execution_count": 29
        }
      ]
    },
    {
      "cell_type": "code",
      "source": [
        "Carro_1 = ['Jetta Variant', 'Motor 4.0 Turbo', 2003, 44410.0, False, ['Rodas de liga', 'Travas elétricas', 'Piloto automático'], 88078.64]\n",
        "Carro_2 = ['Passat', 'Motor Diesel', 1991, 5712.0, False, ['Central multimídia', 'Teto panorâmico', 'Freios ABS'], 106161.94]\n",
        "Carros = [Carro_1, Carro_2]"
      ],
      "metadata": {
        "id": "LJDS2TbqzpHH"
      },
      "execution_count": null,
      "outputs": []
    },
    {
      "cell_type": "code",
      "source": [
        "Carros"
      ],
      "metadata": {
        "colab": {
          "base_uri": "https://localhost:8080/"
        },
        "id": "2AMX5OHR0IU8",
        "outputId": "e4eda155-ecac-45d2-d0bc-4a9ff3ed7189"
      },
      "execution_count": null,
      "outputs": [
        {
          "output_type": "execute_result",
          "data": {
            "text/plain": [
              "[['Jetta Variant',\n",
              "  'Motor 4.0 Turbo',\n",
              "  2003,\n",
              "  44410.0,\n",
              "  False,\n",
              "  ['Rodas de liga', 'Travas elétricas', 'Piloto automático'],\n",
              "  88078.64],\n",
              " ['Passat',\n",
              "  'Motor Diesel',\n",
              "  1991,\n",
              "  5712.0,\n",
              "  False,\n",
              "  ['Central multimídia', 'Teto panorâmico', 'Freios ABS'],\n",
              "  106161.94]]"
            ]
          },
          "metadata": {},
          "execution_count": 32
        }
      ]
    },
    {
      "cell_type": "code",
      "source": [
        "#acessando a primeira lista de lista Carros\n",
        "Carros[0]"
      ],
      "metadata": {
        "colab": {
          "base_uri": "https://localhost:8080/"
        },
        "id": "VYHCCscyz-cQ",
        "outputId": "2df96ac0-9114-4a80-fc6f-b21590176723"
      },
      "execution_count": null,
      "outputs": [
        {
          "output_type": "execute_result",
          "data": {
            "text/plain": [
              "['Jetta Variant',\n",
              " 'Motor 4.0 Turbo',\n",
              " 2003,\n",
              " 44410.0,\n",
              " False,\n",
              " ['Rodas de liga', 'Travas elétricas', 'Piloto automático'],\n",
              " 88078.64]"
            ]
          },
          "metadata": {},
          "execution_count": 31
        }
      ]
    },
    {
      "cell_type": "code",
      "source": [
        "#Acessando o valor jetta variant da primeira lista\n",
        "Carros[0][0]"
      ],
      "metadata": {
        "colab": {
          "base_uri": "https://localhost:8080/",
          "height": 35
        },
        "id": "Hj5NGVYZ0GpY",
        "outputId": "a9c7d91d-8c52-4a1c-cef5-e779917774bf"
      },
      "execution_count": null,
      "outputs": [
        {
          "output_type": "execute_result",
          "data": {
            "application/vnd.google.colaboratory.intrinsic+json": {
              "type": "string"
            },
            "text/plain": [
              "'Jetta Variant'"
            ]
          },
          "metadata": {},
          "execution_count": 33
        }
      ]
    },
    {
      "cell_type": "code",
      "source": [
        "#Acessando o valor para retornar travas elétricas\n",
        "Carros[0][-2][1]"
      ],
      "metadata": {
        "colab": {
          "base_uri": "https://localhost:8080/",
          "height": 35
        },
        "id": "dD6f1xWF0UWB",
        "outputId": "ba57fc1f-611d-46c1-90e4-6a46f0f020d8"
      },
      "execution_count": null,
      "outputs": [
        {
          "output_type": "execute_result",
          "data": {
            "application/vnd.google.colaboratory.intrinsic+json": {
              "type": "string"
            },
            "text/plain": [
              "'Travas elétricas'"
            ]
          },
          "metadata": {},
          "execution_count": 35
        }
      ]
    },
    {
      "cell_type": "markdown",
      "source": [
        "**A[i:j]** \n",
        "Recorta a lista A do índice i até o j. Neste fatiamento o elemento com índice i é incluído e o elemento com índice j não é incluído no resultado."
      ],
      "metadata": {
        "id": "8Q9rF4dM0t5f"
      }
    },
    {
      "cell_type": "code",
      "source": [
        "acessorios = ['Rodas de liga', 'Travas elétricas', 'Piloto automático', 'Bancos de couro', 'Ar condicionado', 'Sensor de estacionamento', 'Sensor crepuscular', 'Sensor de chuva']\n",
        "acessorios"
      ],
      "metadata": {
        "colab": {
          "base_uri": "https://localhost:8080/"
        },
        "id": "vhCsBOlr0k9t",
        "outputId": "e46eabb2-1d9c-4e12-f650-57003f91d582"
      },
      "execution_count": null,
      "outputs": [
        {
          "output_type": "execute_result",
          "data": {
            "text/plain": [
              "['Rodas de liga',\n",
              " 'Travas elétricas',\n",
              " 'Piloto automático',\n",
              " 'Bancos de couro',\n",
              " 'Ar condicionado',\n",
              " 'Sensor de estacionamento',\n",
              " 'Sensor crepuscular',\n",
              " 'Sensor de chuva']"
            ]
          },
          "metadata": {},
          "execution_count": 36
        }
      ]
    },
    {
      "cell_type": "code",
      "source": [
        "#Pegando do piloto automatico[2] ATÉ sensor de estacionamento([5]+1)\n",
        "acessorios[2:6]\n",
        "\n",
        "#note que no final utilizamos o valor [5]+1, pois o valor final é excludente, então para incluir colocamos um valor a mais"
      ],
      "metadata": {
        "colab": {
          "base_uri": "https://localhost:8080/"
        },
        "id": "50itFqPv1CyS",
        "outputId": "f0729aff-52d1-488b-c0d2-28b106430bb6"
      },
      "execution_count": null,
      "outputs": [
        {
          "output_type": "execute_result",
          "data": {
            "text/plain": [
              "['Piloto automático',\n",
              " 'Bancos de couro',\n",
              " 'Ar condicionado',\n",
              " 'Sensor de estacionamento']"
            ]
          },
          "metadata": {},
          "execution_count": 37
        }
      ]
    },
    {
      "cell_type": "code",
      "source": [
        "#pegando os valores do piloto automático até o final\n",
        "acessorios[2:]\n",
        "#deixamos o segundo valor vazio, o Python entende que os valores irão até o final e retorna todos os itens a partir do item 2"
      ],
      "metadata": {
        "colab": {
          "base_uri": "https://localhost:8080/"
        },
        "id": "AwEt3JmJ1kMe",
        "outputId": "def6e2b0-f0b2-46ea-fe5b-f5098dec181e"
      },
      "execution_count": null,
      "outputs": [
        {
          "output_type": "execute_result",
          "data": {
            "text/plain": [
              "['Piloto automático',\n",
              " 'Bancos de couro',\n",
              " 'Ar condicionado',\n",
              " 'Sensor de estacionamento',\n",
              " 'Sensor crepuscular',\n",
              " 'Sensor de chuva']"
            ]
          },
          "metadata": {},
          "execution_count": 38
        }
      ]
    },
    {
      "cell_type": "code",
      "source": [
        "#o contrário é verdadeiro, se quisermos do sensor de estacionamento e todos os valores antes dele:\n",
        "acessorios[:6]"
      ],
      "metadata": {
        "colab": {
          "base_uri": "https://localhost:8080/"
        },
        "id": "oELNZWCf1ytN",
        "outputId": "e12b47d2-5f36-4d6c-fc64-0515a860cf88"
      },
      "execution_count": null,
      "outputs": [
        {
          "output_type": "execute_result",
          "data": {
            "text/plain": [
              "['Rodas de liga',\n",
              " 'Travas elétricas',\n",
              " 'Piloto automático',\n",
              " 'Bancos de couro',\n",
              " 'Ar condicionado',\n",
              " 'Sensor de estacionamento']"
            ]
          },
          "metadata": {},
          "execution_count": 39
        }
      ]
    },
    {
      "cell_type": "markdown",
      "source": [
        "# **Métodos de listas**"
      ],
      "metadata": {
        "id": "MEFzblZo2g_W"
      }
    },
    {
      "cell_type": "code",
      "source": [
        "acessorios = ['Rodas de liga', 'Travas elétricas', 'Piloto automático', 'Bancos de couro', 'Ar condicionado', 'Sensor de estacionamento', 'Sensor crepuscular', 'Sensor de chuva']\n",
        "acessorios"
      ],
      "metadata": {
        "colab": {
          "base_uri": "https://localhost:8080/"
        },
        "id": "O2R2b2PR2gpi",
        "outputId": "0cddcdf0-ded5-493e-afd9-e41f5806d0b4"
      },
      "execution_count": null,
      "outputs": [
        {
          "output_type": "execute_result",
          "data": {
            "text/plain": [
              "['Rodas de liga',\n",
              " 'Travas elétricas',\n",
              " 'Piloto automático',\n",
              " 'Bancos de couro',\n",
              " 'Ar condicionado',\n",
              " 'Sensor de estacionamento',\n",
              " 'Sensor crepuscular',\n",
              " 'Sensor de chuva']"
            ]
          },
          "metadata": {},
          "execution_count": 82
        }
      ]
    },
    {
      "cell_type": "markdown",
      "source": [
        "**A.sort()**: ordena a lista A"
      ],
      "metadata": {
        "id": "nKCBLEDh2tuA"
      }
    },
    {
      "cell_type": "code",
      "source": [
        "#ordenando os elementos da lista acessorios\n",
        "acessorios.sort()\n",
        "acessorios"
      ],
      "metadata": {
        "colab": {
          "base_uri": "https://localhost:8080/"
        },
        "id": "KVzFqaWu2pMC",
        "outputId": "850ed8ed-0afc-42c2-f0bf-5b70e34adfd8"
      },
      "execution_count": null,
      "outputs": [
        {
          "output_type": "execute_result",
          "data": {
            "text/plain": [
              "['Ar condicionado',\n",
              " 'Bancos de couro',\n",
              " 'Piloto automático',\n",
              " 'Rodas de liga',\n",
              " 'Sensor crepuscular',\n",
              " 'Sensor de chuva',\n",
              " 'Sensor de estacionamento',\n",
              " 'Travas elétricas']"
            ]
          },
          "metadata": {},
          "execution_count": 83
        }
      ]
    },
    {
      "cell_type": "markdown",
      "source": [
        "**A.append(x)**: adiciona o elemento x no final da lista A"
      ],
      "metadata": {
        "id": "GpsNlboT3DGc"
      }
    },
    {
      "cell_type": "code",
      "source": [
        "acessorios.append('4 X 4')"
      ],
      "metadata": {
        "id": "CtA6jzv23BBs"
      },
      "execution_count": null,
      "outputs": []
    },
    {
      "cell_type": "markdown",
      "source": [
        "**A.pop(x)**: remove um item da lista, se não adicionarmos o que queremos remover, ele irá remover o último"
      ],
      "metadata": {
        "id": "4gA45f3p3P6W"
      }
    },
    {
      "cell_type": "code",
      "source": [
        "#removendo o último item\n",
        "acessorios.pop()\n",
        "acessorios\n",
        "#removeu o '4 X 4'"
      ],
      "metadata": {
        "colab": {
          "base_uri": "https://localhost:8080/"
        },
        "id": "uQHPacA23Yqp",
        "outputId": "95a0640d-64ba-4566-c2aa-0eeafed4da8f"
      },
      "execution_count": null,
      "outputs": [
        {
          "output_type": "execute_result",
          "data": {
            "text/plain": [
              "['Ar condicionado',\n",
              " 'Bancos de couro',\n",
              " 'Piloto automático',\n",
              " 'Rodas de liga',\n",
              " 'Sensor crepuscular',\n",
              " 'Sensor de chuva',\n",
              " 'Sensor de estacionamento',\n",
              " 'Travas elétricas']"
            ]
          },
          "metadata": {},
          "execution_count": 85
        }
      ]
    },
    {
      "cell_type": "code",
      "source": [
        "#removendo o item rodas de liga\n",
        "acessorios.pop(3)\n",
        "acessorios"
      ],
      "metadata": {
        "colab": {
          "base_uri": "https://localhost:8080/"
        },
        "id": "xj_7fbTU3jnV",
        "outputId": "99ffb25b-f07c-4b86-e507-c22b62b9d96d"
      },
      "execution_count": null,
      "outputs": [
        {
          "output_type": "execute_result",
          "data": {
            "text/plain": [
              "['Ar condicionado',\n",
              " 'Bancos de couro',\n",
              " 'Piloto automático',\n",
              " 'Sensor crepuscular',\n",
              " 'Sensor de chuva',\n",
              " 'Sensor de estacionamento',\n",
              " 'Travas elétricas']"
            ]
          },
          "metadata": {},
          "execution_count": 86
        }
      ]
    },
    {
      "cell_type": "markdown",
      "source": [
        "**A.copy**: Cria uma cópia da lista A"
      ],
      "metadata": {
        "id": "VBcId-rm3zjo"
      }
    },
    {
      "cell_type": "code",
      "source": [
        "#quando fazemos:\n",
        "acessorios_2 = acessorios\n",
        "acessorios_2.append('4x4')"
      ],
      "metadata": {
        "id": "Wn1vpYkg3xqh"
      },
      "execution_count": null,
      "outputs": []
    },
    {
      "cell_type": "code",
      "source": [
        "#pensamos que apenas mudamos acessorios_2:\n",
        "acessorios_2"
      ],
      "metadata": {
        "colab": {
          "base_uri": "https://localhost:8080/"
        },
        "id": "i2ybA8AA4UG7",
        "outputId": "4a4390ab-9b88-4790-e102-87a8461e689a"
      },
      "execution_count": null,
      "outputs": [
        {
          "output_type": "execute_result",
          "data": {
            "text/plain": [
              "['Ar condicionado',\n",
              " 'Bancos de couro',\n",
              " 'Piloto automático',\n",
              " 'Sensor crepuscular',\n",
              " 'Sensor de chuva',\n",
              " 'Sensor de estacionamento',\n",
              " 'Travas elétricas',\n",
              " '4x4']"
            ]
          },
          "metadata": {},
          "execution_count": 88
        }
      ]
    },
    {
      "cell_type": "code",
      "source": [
        "#mas também alteramos acessorios:\n",
        "acessorios\n",
        "\n",
        "#isso porque apenas rotulamos a variável acessorios, com outro nome, mas ainda é a mesma variável\n",
        "#para evitar esse tipo de troca dupla, utilizamos o copy, que fará uma cópia da variável/lista\n",
        "#e caso faça alguma mudança na nova variável, não afetará a original"
      ],
      "metadata": {
        "colab": {
          "base_uri": "https://localhost:8080/"
        },
        "id": "otXdQ9bI46Ak",
        "outputId": "8d3949af-f85f-4277-c4e3-d7c67b064e00"
      },
      "execution_count": null,
      "outputs": [
        {
          "output_type": "execute_result",
          "data": {
            "text/plain": [
              "['Ar condicionado',\n",
              " 'Bancos de couro',\n",
              " 'Piloto automático',\n",
              " 'Sensor crepuscular',\n",
              " 'Sensor de chuva',\n",
              " 'Sensor de estacionamento',\n",
              " 'Travas elétricas',\n",
              " '4x4']"
            ]
          },
          "metadata": {},
          "execution_count": 89
        }
      ]
    },
    {
      "cell_type": "code",
      "source": [
        "#tirando o valor '4x4'\n",
        "acessorios_2.pop()\n",
        "\n",
        "#vamos testar a função copy()\n",
        "\n",
        "#copiamos a base\n",
        "acessorios_2 = acessorios.copy()\n",
        "\n",
        "#adicionamos um novo valor a variável\n",
        "acessorios_2.append('4x4')"
      ],
      "metadata": {
        "id": "2_fTW8xe49V-"
      },
      "execution_count": null,
      "outputs": []
    },
    {
      "cell_type": "code",
      "source": [
        "#visualizamos a variável acessorios_2\n",
        "acessorios_2"
      ],
      "metadata": {
        "colab": {
          "base_uri": "https://localhost:8080/"
        },
        "id": "9ynqpIj25jAT",
        "outputId": "8bae4ba5-3f81-464d-bc42-9a2d4d3a3690"
      },
      "execution_count": null,
      "outputs": [
        {
          "output_type": "execute_result",
          "data": {
            "text/plain": [
              "['Ar condicionado',\n",
              " 'Bancos de couro',\n",
              " 'Piloto automático',\n",
              " 'Sensor crepuscular',\n",
              " 'Sensor de chuva',\n",
              " 'Sensor de estacionamento',\n",
              " 'Travas elétricas',\n",
              " '4x4']"
            ]
          },
          "metadata": {},
          "execution_count": 91
        }
      ]
    },
    {
      "cell_type": "code",
      "source": [
        "#e acessamos a variável acessórios:\n",
        "acessorios\n",
        "\n",
        "#neste caso, notamos que a variável acessorios não se alterou, mesmo sendo a variável acessorios_2 sendo alterada"
      ],
      "metadata": {
        "colab": {
          "base_uri": "https://localhost:8080/"
        },
        "id": "ze0VOw7E5nMP",
        "outputId": "94f4d741-319b-4326-eec5-7abe126b7b78"
      },
      "execution_count": null,
      "outputs": [
        {
          "output_type": "execute_result",
          "data": {
            "text/plain": [
              "['Ar condicionado',\n",
              " 'Bancos de couro',\n",
              " 'Piloto automático',\n",
              " 'Sensor crepuscular',\n",
              " 'Sensor de chuva',\n",
              " 'Sensor de estacionamento',\n",
              " 'Travas elétricas']"
            ]
          },
          "metadata": {},
          "execution_count": 93
        }
      ]
    },
    {
      "cell_type": "markdown",
      "source": [
        "# **Estruturas de repetição e condicionais**\n",
        "**Instrução FOR**\n",
        "\n",
        "Formato:\n",
        "```\n",
        "for <variável> in <coleção>:\n",
        "    <instruções>\n",
        "```"
      ],
      "metadata": {
        "id": "BRYhUbq_508y"
      }
    },
    {
      "cell_type": "markdown",
      "source": [
        "**Loops com lista**\n"
      ],
      "metadata": {
        "id": "ySncqjKt6MX0"
      }
    },
    {
      "cell_type": "code",
      "source": [
        "acessorios = ['Rodas de liga', 'Travas elétricas', 'Piloto automático', 'Bancos de couro', 'Ar condicionado', 'Sensor de estacionamento', 'Sensor crepuscular', 'Sensor de chuva']\n",
        "acessorios"
      ],
      "metadata": {
        "colab": {
          "base_uri": "https://localhost:8080/"
        },
        "id": "U2v2KkTA6D0Z",
        "outputId": "345941c2-59c5-4b44-eac3-2762ad77ff81"
      },
      "execution_count": null,
      "outputs": [
        {
          "output_type": "execute_result",
          "data": {
            "text/plain": [
              "['Rodas de liga',\n",
              " 'Travas elétricas',\n",
              " 'Piloto automático',\n",
              " 'Bancos de couro',\n",
              " 'Ar condicionado',\n",
              " 'Sensor de estacionamento',\n",
              " 'Sensor crepuscular',\n",
              " 'Sensor de chuva']"
            ]
          },
          "metadata": {},
          "execution_count": 1
        }
      ]
    },
    {
      "cell_type": "code",
      "source": [
        "#printando cada item da lista acessórios\n",
        "for item in acessorios:\n",
        "  print(item)"
      ],
      "metadata": {
        "colab": {
          "base_uri": "https://localhost:8080/"
        },
        "id": "xFKvdUhc6siz",
        "outputId": "7f2b28af-d80a-4be2-fd0d-11e9bc572c2e"
      },
      "execution_count": null,
      "outputs": [
        {
          "output_type": "stream",
          "name": "stdout",
          "text": [
            "Rodas de liga\n",
            "Travas elétricas\n",
            "Piloto automático\n",
            "Bancos de couro\n",
            "Ar condicionado\n",
            "Sensor de estacionamento\n",
            "Sensor crepuscular\n",
            "Sensor de chuva\n"
          ]
        }
      ]
    },
    {
      "cell_type": "markdown",
      "source": [
        "**List comprehensions** "
      ],
      "metadata": {
        "id": "8fJniT-3W5sr"
      }
    },
    {
      "cell_type": "code",
      "source": [
        "#gerando uma lista com 10 elementos por meio de uma build-in fuction\n",
        "range(10)"
      ],
      "metadata": {
        "colab": {
          "base_uri": "https://localhost:8080/"
        },
        "id": "7LA7LJhOW4tt",
        "outputId": "b5a8b754-93e9-4229-8beb-236213c452b2"
      },
      "execution_count": null,
      "outputs": [
        {
          "output_type": "execute_result",
          "data": {
            "text/plain": [
              "range(0, 10)"
            ]
          },
          "metadata": {},
          "execution_count": 1
        }
      ]
    },
    {
      "cell_type": "code",
      "source": [
        "#podemos criar uma lista da forma que conhecemos com colchetes, da seguinte forma:\n",
        "list(range(10))"
      ],
      "metadata": {
        "colab": {
          "base_uri": "https://localhost:8080/"
        },
        "id": "Pk9WutIGW5W4",
        "outputId": "c986e5b6-5c4f-41f4-b562-a888a8b10daa"
      },
      "execution_count": null,
      "outputs": [
        {
          "output_type": "execute_result",
          "data": {
            "text/plain": [
              "[0, 1, 2, 3, 4, 5, 6, 7, 8, 9]"
            ]
          },
          "metadata": {},
          "execution_count": 2
        }
      ]
    },
    {
      "cell_type": "code",
      "source": [
        "#fazendo o print de cada item do meu range (10 (0-9)) ao quadrado:\n",
        "for i in range(10):\n",
        "  print(i ** 2)"
      ],
      "metadata": {
        "colab": {
          "base_uri": "https://localhost:8080/"
        },
        "id": "RJ7Uxj2GXXej",
        "outputId": "225a0e8c-7b29-4816-9e9c-4150b0b75f67"
      },
      "execution_count": null,
      "outputs": [
        {
          "output_type": "stream",
          "name": "stdout",
          "text": [
            "0\n",
            "1\n",
            "4\n",
            "9\n",
            "16\n",
            "25\n",
            "36\n",
            "49\n",
            "64\n",
            "81\n"
          ]
        }
      ]
    },
    {
      "cell_type": "code",
      "source": [
        "#salvando os valores ao quadrado em uma variável\n",
        "quadrado = []\n",
        "\n",
        "for i in range(10):\n",
        "  quadrado.append(i**2)\n",
        "\n",
        "quadrado"
      ],
      "metadata": {
        "colab": {
          "base_uri": "https://localhost:8080/"
        },
        "id": "9h2kdHEFXla5",
        "outputId": "961774c5-6801-4710-c7d7-d1740873318c"
      },
      "execution_count": null,
      "outputs": [
        {
          "output_type": "execute_result",
          "data": {
            "text/plain": [
              "[0, 1, 4, 9, 16, 25, 36, 49, 64, 81]"
            ]
          },
          "metadata": {},
          "execution_count": 4
        }
      ]
    },
    {
      "cell_type": "code",
      "source": [
        "#fazendo a mesma lista, mas por meio de list comprehensions (uma única linha):\n",
        "[i ** 2 for i in range(10)]\n",
        "\n",
        "#o que eu quero fazer, e o meu for: i elevado ao quadrado para i em range(10)\n",
        "#podendo criar a variável quadrado com isso:\n",
        "\n",
        "quadrado = [i ** 2 for i in range(10)]\n",
        "quadrado"
      ],
      "metadata": {
        "colab": {
          "base_uri": "https://localhost:8080/"
        },
        "id": "jdiAvgzNYL9I",
        "outputId": "f4d30ed1-5b4b-4a55-882f-bf46a38b99c4"
      },
      "execution_count": null,
      "outputs": [
        {
          "output_type": "execute_result",
          "data": {
            "text/plain": [
              "[0, 1, 4, 9, 16, 25, 36, 49, 64, 81]"
            ]
          },
          "metadata": {},
          "execution_count": 7
        }
      ]
    },
    {
      "cell_type": "markdown",
      "source": [
        "# **Loops aninhados**"
      ],
      "metadata": {
        "id": "kX7tcL9OYk2-"
      }
    },
    {
      "cell_type": "code",
      "source": [
        "#uma lista com três listas dentro\n",
        "dados = [ \n",
        "    ['Rodas de liga', 'Travas elétricas', 'Piloto automático', 'Bancos de couro', 'Ar condicionado', 'Sensor de estacionamento', 'Sensor crepuscular', 'Sensor de chuva'],\n",
        "    ['Central multimídia', 'Teto panorâmico', 'Freios ABS', '4 X 4', 'Painel digital', 'Piloto automático', 'Bancos de couro', 'Câmera de estacionamento'],\n",
        "    ['Piloto automático', 'Controle de estabilidade', 'Sensor crepuscular', 'Freios ABS', 'Câmbio automático', 'Bancos de couro', 'Central multimídia', 'Vidros elétricos']\n",
        "]\n",
        "dados"
      ],
      "metadata": {
        "colab": {
          "base_uri": "https://localhost:8080/"
        },
        "id": "DF8Px-7GYkC2",
        "outputId": "6303fde9-e724-4fec-fa4f-5f17864af5e9"
      },
      "execution_count": null,
      "outputs": [
        {
          "output_type": "execute_result",
          "data": {
            "text/plain": [
              "[['Rodas de liga',\n",
              "  'Travas elétricas',\n",
              "  'Piloto automático',\n",
              "  'Bancos de couro',\n",
              "  'Ar condicionado',\n",
              "  'Sensor de estacionamento',\n",
              "  'Sensor crepuscular',\n",
              "  'Sensor de chuva'],\n",
              " ['Central multimídia',\n",
              "  'Teto panorâmico',\n",
              "  'Freios ABS',\n",
              "  '4 X 4',\n",
              "  'Painel digital',\n",
              "  'Piloto automático',\n",
              "  'Bancos de couro',\n",
              "  'Câmera de estacionamento'],\n",
              " ['Piloto automático',\n",
              "  'Controle de estabilidade',\n",
              "  'Sensor crepuscular',\n",
              "  'Freios ABS',\n",
              "  'Câmbio automático',\n",
              "  'Bancos de couro',\n",
              "  'Central multimídia',\n",
              "  'Vidros elétricos']]"
            ]
          },
          "metadata": {},
          "execution_count": 8
        }
      ]
    },
    {
      "cell_type": "code",
      "source": [
        "#identificando quais listas temos:\n",
        "for lista in dados:\n",
        "  print(lista)"
      ],
      "metadata": {
        "colab": {
          "base_uri": "https://localhost:8080/"
        },
        "id": "wWsCnUpuY7IT",
        "outputId": "3957d789-9061-4591-8de9-50b3d467a105"
      },
      "execution_count": null,
      "outputs": [
        {
          "output_type": "stream",
          "name": "stdout",
          "text": [
            "['Rodas de liga', 'Travas elétricas', 'Piloto automático', 'Bancos de couro', 'Ar condicionado', 'Sensor de estacionamento', 'Sensor crepuscular', 'Sensor de chuva']\n",
            "['Central multimídia', 'Teto panorâmico', 'Freios ABS', '4 X 4', 'Painel digital', 'Piloto automático', 'Bancos de couro', 'Câmera de estacionamento']\n",
            "['Piloto automático', 'Controle de estabilidade', 'Sensor crepuscular', 'Freios ABS', 'Câmbio automático', 'Bancos de couro', 'Central multimídia', 'Vidros elétricos']\n"
          ]
        }
      ]
    },
    {
      "cell_type": "code",
      "source": [
        "#identificando todos os itens que temos dentro da nossa variável\n",
        "for lista in dados:\n",
        "  for item in lista:\n",
        "    print(item)"
      ],
      "metadata": {
        "colab": {
          "base_uri": "https://localhost:8080/"
        },
        "id": "RXKtmF21ZPAE",
        "outputId": "b45c9782-2e95-41bf-caa2-b1dd1f6ce250"
      },
      "execution_count": null,
      "outputs": [
        {
          "output_type": "stream",
          "name": "stdout",
          "text": [
            "Rodas de liga\n",
            "Travas elétricas\n",
            "Piloto automático\n",
            "Bancos de couro\n",
            "Ar condicionado\n",
            "Sensor de estacionamento\n",
            "Sensor crepuscular\n",
            "Sensor de chuva\n",
            "Central multimídia\n",
            "Teto panorâmico\n",
            "Freios ABS\n",
            "4 X 4\n",
            "Painel digital\n",
            "Piloto automático\n",
            "Bancos de couro\n",
            "Câmera de estacionamento\n",
            "Piloto automático\n",
            "Controle de estabilidade\n",
            "Sensor crepuscular\n",
            "Freios ABS\n",
            "Câmbio automático\n",
            "Bancos de couro\n",
            "Central multimídia\n",
            "Vidros elétricos\n"
          ]
        }
      ]
    },
    {
      "cell_type": "code",
      "source": [
        "#criando uma variável e guardando todos os itens na variável acessórios que tem formato de lista:\n",
        "acessorios = []\n",
        "\n",
        "for lista in dados:\n",
        "  for item in lista:\n",
        "    acessorios.append(item)\n",
        "\n",
        "acessorios"
      ],
      "metadata": {
        "colab": {
          "base_uri": "https://localhost:8080/"
        },
        "id": "DdclX9fRZdhh",
        "outputId": "e0bb90f2-9c08-419a-e549-ddc950424154"
      },
      "execution_count": null,
      "outputs": [
        {
          "output_type": "execute_result",
          "data": {
            "text/plain": [
              "['Rodas de liga',\n",
              " 'Travas elétricas',\n",
              " 'Piloto automático',\n",
              " 'Bancos de couro',\n",
              " 'Ar condicionado',\n",
              " 'Sensor de estacionamento',\n",
              " 'Sensor crepuscular',\n",
              " 'Sensor de chuva',\n",
              " 'Central multimídia',\n",
              " 'Teto panorâmico',\n",
              " 'Freios ABS',\n",
              " '4 X 4',\n",
              " 'Painel digital',\n",
              " 'Piloto automático',\n",
              " 'Bancos de couro',\n",
              " 'Câmera de estacionamento',\n",
              " 'Piloto automático',\n",
              " 'Controle de estabilidade',\n",
              " 'Sensor crepuscular',\n",
              " 'Freios ABS',\n",
              " 'Câmbio automático',\n",
              " 'Bancos de couro',\n",
              " 'Central multimídia',\n",
              " 'Vidros elétricos']"
            ]
          },
          "metadata": {},
          "execution_count": 28
        }
      ]
    },
    {
      "cell_type": "markdown",
      "source": [
        "**set()**"
      ],
      "metadata": {
        "id": "tb3dXZ-yaCh3"
      }
    },
    {
      "cell_type": "code",
      "source": [
        "#removendo os valores duplicados da minha variável acessorios, mas ainda em formato de lista\n",
        "list(set(acessorios))\n"
      ],
      "metadata": {
        "colab": {
          "base_uri": "https://localhost:8080/"
        },
        "id": "PL1MDR3nZ9vt",
        "outputId": "a5ec697e-84e4-41f3-a28e-c0ba27191261"
      },
      "execution_count": null,
      "outputs": [
        {
          "output_type": "execute_result",
          "data": {
            "text/plain": [
              "['Ar condicionado',\n",
              " 'Rodas de liga',\n",
              " 'Sensor crepuscular',\n",
              " 'Controle de estabilidade',\n",
              " 'Sensor de estacionamento',\n",
              " 'Câmbio automático',\n",
              " 'Painel digital',\n",
              " 'Câmera de estacionamento',\n",
              " 'Sensor de chuva',\n",
              " 'Piloto automático',\n",
              " 'Vidros elétricos',\n",
              " '4 X 4',\n",
              " 'Travas elétricas',\n",
              " 'Bancos de couro',\n",
              " 'Teto panorâmico',\n",
              " 'Freios ABS',\n",
              " 'Central multimídia']"
            ]
          },
          "metadata": {},
          "execution_count": 30
        }
      ]
    },
    {
      "cell_type": "code",
      "source": [
        "#fazendo tudo que eu fiz, mas em forma de list comprehensions:\n",
        "list(set([item for lista in dados for item in lista]))"
      ],
      "metadata": {
        "colab": {
          "base_uri": "https://localhost:8080/"
        },
        "id": "xE-Bf2YFagwr",
        "outputId": "686a5ea9-6d98-4b1b-e13d-569ec5490987"
      },
      "execution_count": null,
      "outputs": [
        {
          "output_type": "execute_result",
          "data": {
            "text/plain": [
              "['Rodas de liga',\n",
              " 'Ar condicionado',\n",
              " 'Sensor crepuscular',\n",
              " 'Sensor de estacionamento',\n",
              " 'Controle de estabilidade',\n",
              " 'Painel digital',\n",
              " 'Câmbio automático',\n",
              " 'Sensor de chuva',\n",
              " 'Câmera de estacionamento',\n",
              " 'Piloto automático',\n",
              " 'Vidros elétricos',\n",
              " '4 X 4',\n",
              " 'Travas elétricas',\n",
              " 'Bancos de couro',\n",
              " 'Teto panorâmico',\n",
              " 'Freios ABS',\n",
              " 'Central multimídia']"
            ]
          },
          "metadata": {},
          "execution_count": 33
        }
      ]
    },
    {
      "cell_type": "markdown",
      "source": [
        "# **Instrução IF**\n",
        "\n",
        "#### Formato padrão\n",
        "\n",
        "```\n",
        "if <condição>:\n",
        "     <instruções caso a condição seja verdadeira>\n",
        "```\n",
        "\n"
      ],
      "metadata": {
        "id": "Wj0f0VsAcwqs"
      }
    },
    {
      "cell_type": "code",
      "source": [
        "# 1º item da lista - Nome do veículo\n",
        "# 2º item da lista - Ano de fabricação\n",
        "# 3º item da lista - Veículo é zero km?\n",
        "\n",
        "dados = [\n",
        "    ['Jetta Variant', 2003, False],\n",
        "    ['Passat', 1991, False],\n",
        "    ['Crossfox', 1990, False],\n",
        "    ['DS5', 2019, True],\n",
        "    ['Aston Martin DB4', 2006, False],\n",
        "    ['Palio Weekend', 2012, False],\n",
        "    ['A5', 2019, True],\n",
        "    ['Série 3 Cabrio', 2009, False],\n",
        "    ['Dodge Jorney', 2019, False],\n",
        "    ['Carens', 2011, False]\n",
        "]\n",
        "dados"
      ],
      "metadata": {
        "colab": {
          "base_uri": "https://localhost:8080/"
        },
        "id": "paepSYoxcwbn",
        "outputId": "e99a19ae-50e8-4091-ebf3-248af36b47c6"
      },
      "execution_count": null,
      "outputs": [
        {
          "output_type": "execute_result",
          "data": {
            "text/plain": [
              "[['Jetta Variant', 2003, False],\n",
              " ['Passat', 1991, False],\n",
              " ['Crossfox', 1990, False],\n",
              " ['DS5', 2019, True],\n",
              " ['Aston Martin DB4', 2006, False],\n",
              " ['Palio Weekend', 2012, False],\n",
              " ['A5', 2019, True],\n",
              " ['Série 3 Cabrio', 2009, False],\n",
              " ['Dodge Jorney', 2019, False],\n",
              " ['Carens', 2011, False]]"
            ]
          },
          "metadata": {},
          "execution_count": 34
        }
      ]
    },
    {
      "cell_type": "code",
      "source": [
        "#salvar apenas as lista que estão marcados como true (que são 0 km) em dados:\n",
        "veiculo_zerokm = []\n",
        "\n",
        "for lista in dados:\n",
        "    if lista[2] == True:\n",
        "      veiculo_zerokm.append(lista)\n",
        "\n",
        "veiculo_zerokm"
      ],
      "metadata": {
        "colab": {
          "base_uri": "https://localhost:8080/"
        },
        "id": "ocqENooJdOqM",
        "outputId": "da63516c-d077-4364-cbb5-192f1848105c"
      },
      "execution_count": null,
      "outputs": [
        {
          "output_type": "execute_result",
          "data": {
            "text/plain": [
              "[['DS5', 2019, True], ['A5', 2019, True]]"
            ]
          },
          "metadata": {},
          "execution_count": 45
        }
      ]
    },
    {
      "cell_type": "code",
      "source": [
        "#salvar apenas as lista que estão marcados como false (que não são 0 km) em dados:\n",
        "veiculo_naozerokm = []\n",
        "\n",
        "for lista in dados:\n",
        "    if lista[2] == False:\n",
        "      veiculo_naozerokm.append(lista)\n",
        "\n",
        "veiculo_naozerokm"
      ],
      "metadata": {
        "colab": {
          "base_uri": "https://localhost:8080/"
        },
        "id": "y7HcQgi9eIh4",
        "outputId": "e5cd52fd-6910-4a13-c9f9-c1b7ec1c1d96"
      },
      "execution_count": null,
      "outputs": [
        {
          "output_type": "execute_result",
          "data": {
            "text/plain": [
              "[['Jetta Variant', 2003, False],\n",
              " ['Passat', 1991, False],\n",
              " ['Crossfox', 1990, False],\n",
              " ['Aston Martin DB4', 2006, False],\n",
              " ['Palio Weekend', 2012, False],\n",
              " ['Série 3 Cabrio', 2009, False],\n",
              " ['Dodge Jorney', 2019, False],\n",
              " ['Carens', 2011, False]]"
            ]
          },
          "metadata": {},
          "execution_count": 46
        }
      ]
    },
    {
      "cell_type": "code",
      "source": [
        "#fazendo o mesmo que fizemos por meio de list comprehensions:\n",
        "veiculo_zerokm = [lista for lista in dados if lista[2] == True]\n",
        "veiculo_zerokm\n",
        "\n",
        "veiculo_naozerokm = [lista for lista in dados if lista[2] == False]\n",
        "veiculo_naozerokm"
      ],
      "metadata": {
        "colab": {
          "base_uri": "https://localhost:8080/"
        },
        "id": "CCauKR-jeyHB",
        "outputId": "98a92109-afb1-41d7-f78a-3856f7dd4b09"
      },
      "execution_count": null,
      "outputs": [
        {
          "output_type": "execute_result",
          "data": {
            "text/plain": [
              "[['Jetta Variant', 2003, False],\n",
              " ['Passat', 1991, False],\n",
              " ['Crossfox', 1990, False],\n",
              " ['Aston Martin DB4', 2006, False],\n",
              " ['Palio Weekend', 2012, False],\n",
              " ['Série 3 Cabrio', 2009, False],\n",
              " ['Dodge Jorney', 2019, False],\n",
              " ['Carens', 2011, False]]"
            ]
          },
          "metadata": {},
          "execution_count": 47
        }
      ]
    },
    {
      "cell_type": "markdown",
      "source": [
        "# **Instruções if-else e if-elif-else**\n",
        "\n",
        "#### Formato padrão\n",
        "\n",
        "```\n",
        "if <condição>:\n",
        "    <instruções caso a condição seja verdadeira>\n",
        "else:\n",
        "    <instruções caso a condição não seja verdadeira>\n",
        "```\n",
        "\n"
      ],
      "metadata": {
        "id": "iHK-NfgjfZk_"
      }
    },
    {
      "cell_type": "code",
      "source": [
        "# 1º item da lista - Nome do veículo\n",
        "# 2º item da lista - Ano de fabricação\n",
        "# 3º item da lista - Veículo é zero km?\n",
        "\n",
        "dados = [\n",
        "    ['Jetta Variant', 2003, False],\n",
        "    ['Passat', 1991, False],\n",
        "    ['Crossfox', 1990, False],\n",
        "    ['DS5', 2019, True],\n",
        "    ['Aston Martin DB4', 2006, False],\n",
        "    ['Palio Weekend', 2012, False],\n",
        "    ['A5', 2019, True],\n",
        "    ['Série 3 Cabrio', 2009, False],\n",
        "    ['Dodge Jorney', 2019, False],\n",
        "    ['Carens', 2011, False]\n",
        "]\n",
        "dados"
      ],
      "metadata": {
        "colab": {
          "base_uri": "https://localhost:8080/"
        },
        "id": "Sbzxxu0xfVfI",
        "outputId": "7d04f9ef-d9cd-493d-82a9-f0ce17a69b88"
      },
      "execution_count": null,
      "outputs": [
        {
          "output_type": "execute_result",
          "data": {
            "text/plain": [
              "[['Jetta Variant', 2003, False],\n",
              " ['Passat', 1991, False],\n",
              " ['Crossfox', 1990, False],\n",
              " ['DS5', 2019, True],\n",
              " ['Aston Martin DB4', 2006, False],\n",
              " ['Palio Weekend', 2012, False],\n",
              " ['A5', 2019, True],\n",
              " ['Série 3 Cabrio', 2009, False],\n",
              " ['Dodge Jorney', 2019, False],\n",
              " ['Carens', 2011, False]]"
            ]
          },
          "metadata": {},
          "execution_count": 48
        }
      ]
    },
    {
      "cell_type": "code",
      "source": [
        "#vamos fazer o mesmo que fizemos acima, mas num único FOR\n",
        "\n",
        "#primeiro definimos nossas variáveis:\n",
        "veiculo_zerokm, veiculo_naozerokm = [], []\n",
        "\n",
        "#vamos fazer o for e guardar os valores de 0km e de não 0km nas suas respectivas variáveis:\n",
        "for lista in dados:\n",
        "  if lista[2] == True:\n",
        "    veiculo_zerokm.append(lista)\n",
        "  else:\n",
        "    veiculo_naozerokm.append(lista)"
      ],
      "metadata": {
        "id": "QPg0LuBWfkm7"
      },
      "execution_count": null,
      "outputs": []
    },
    {
      "cell_type": "code",
      "source": [
        "veiculo_zerokm"
      ],
      "metadata": {
        "colab": {
          "base_uri": "https://localhost:8080/"
        },
        "id": "evezzZrcgaIS",
        "outputId": "b21f8ab3-10dc-4f3e-d2d0-829d5135302d"
      },
      "execution_count": null,
      "outputs": [
        {
          "output_type": "execute_result",
          "data": {
            "text/plain": [
              "[['DS5', 2019, True], ['A5', 2019, True]]"
            ]
          },
          "metadata": {},
          "execution_count": 53
        }
      ]
    },
    {
      "cell_type": "code",
      "source": [
        "veiculo_naozerokm"
      ],
      "metadata": {
        "colab": {
          "base_uri": "https://localhost:8080/"
        },
        "id": "kqsgbZwugaQU",
        "outputId": "9aa81f62-70ca-439a-8182-7a0a20a257db"
      },
      "execution_count": null,
      "outputs": [
        {
          "output_type": "execute_result",
          "data": {
            "text/plain": [
              "[['Jetta Variant', 2003, False],\n",
              " ['Passat', 1991, False],\n",
              " ['Crossfox', 1990, False],\n",
              " ['Aston Martin DB4', 2006, False],\n",
              " ['Palio Weekend', 2012, False],\n",
              " ['Série 3 Cabrio', 2009, False],\n",
              " ['Dodge Jorney', 2019, False],\n",
              " ['Carens', 2011, False]]"
            ]
          },
          "metadata": {},
          "execution_count": 54
        }
      ]
    },
    {
      "cell_type": "markdown",
      "source": [
        "#### Formato padrão\n",
        "\n",
        "```\n",
        "if <condição 1>:\n",
        "    <instruções caso a condição 1 seja verdadeira>\n",
        "elif <condição 2>:\n",
        "    <instruções caso a condição 2 seja verdadeira>\n",
        "elif <condição 3>:\n",
        "    <instruções caso a condição 3 seja verdadeira>\n",
        "                        .\n",
        "                        .\n",
        "                        .\n",
        "else:\n",
        "    <instruções caso as condições anteriores não sejam verdadeiras>\n",
        "```"
      ],
      "metadata": {
        "id": "zPryvYN4geNw"
      }
    },
    {
      "cell_type": "markdown",
      "source": [
        "**Operadores lógicos *AND* e *OR*** "
      ],
      "metadata": {
        "id": "up9iabCriIpi"
      }
    },
    {
      "cell_type": "code",
      "source": [
        "print('AND')\n",
        "print(f'(True and True) o resultado é: {True and True}')\n",
        "print(f'(True and False) o resultado é: {True and False}')\n",
        "print(f'(False and True) o resultado é: {False and True}')\n",
        "print(f'(False and False) o resultado é: {False and False}')"
      ],
      "metadata": {
        "colab": {
          "base_uri": "https://localhost:8080/"
        },
        "id": "QDVoxW8qiEYH",
        "outputId": "ff62652b-9d86-49be-89ef-52d9a1f02fc1"
      },
      "execution_count": null,
      "outputs": [
        {
          "output_type": "stream",
          "name": "stdout",
          "text": [
            "AND\n",
            "(True and True) o resultado é: True\n",
            "(True and False) o resultado é: False\n",
            "(False and True) o resultado é: False\n",
            "(False and False) o resultado é: False\n"
          ]
        }
      ]
    },
    {
      "cell_type": "code",
      "source": [
        "print('OR')\n",
        "print(f'(True or True) o resultado é: {True or True}')\n",
        "print(f'(True or False) o resultado é: {True or False}')\n",
        "print(f'(False or True) o resultado é: {False or True}')\n",
        "print(f'(False or False) o resultado é: {False or False}')"
      ],
      "metadata": {
        "colab": {
          "base_uri": "https://localhost:8080/"
        },
        "id": "9qJgV7t-iVGp",
        "outputId": "153021ae-212e-461f-e9c0-e959c4941dc7"
      },
      "execution_count": null,
      "outputs": [
        {
          "output_type": "stream",
          "name": "stdout",
          "text": [
            "OR\n",
            "(True or True) o resultado é: True\n",
            "(True or False) o resultado é: True\n",
            "(False or True) o resultado é: True\n",
            "(False or False) o resultado é: False\n"
          ]
        }
      ]
    },
    {
      "cell_type": "markdown",
      "source": [
        "**Utilizando *IF* e *ELIF***"
      ],
      "metadata": {
        "id": "0tzV3XZyidyw"
      }
    },
    {
      "cell_type": "code",
      "source": [
        "# 1º item da lista - Nome do veículo\n",
        "# 2º item da lista - Ano de fabricação\n",
        "# 3º item da lista - Veículo é zero km?\n",
        "\n",
        "dados = [\n",
        "    ['Jetta Variant', 2003, False],\n",
        "    ['Passat', 1991, False],\n",
        "    ['Crossfox', 1990, False],\n",
        "    ['DS5', 2019, True],\n",
        "    ['Aston Martin DB4', 2006, False],\n",
        "    ['Palio Weekend', 2012, False],\n",
        "    ['A5', 2019, True],\n",
        "    ['Série 3 Cabrio', 2009, False],\n",
        "    ['Dodge Jorney', 2019, False],\n",
        "    ['Carens', 2011, False]\n",
        "]\n",
        "dados"
      ],
      "metadata": {
        "id": "PTXeTWoLgqMu"
      },
      "execution_count": null,
      "outputs": []
    },
    {
      "cell_type": "code",
      "source": [
        "#Faremos 3 listas de acordo com o ano do carro:\n",
        "#A <= 2000, 2000 < B <= 2010 e C > 2010\n",
        "A, B, C = [], [], []\n",
        "\n",
        "for lista in dados:\n",
        "  if lista[1] <= 2000:\n",
        "    A.append(lista)\n",
        "  elif lista[1] > 2000 and lista[1] <= 2010:\n",
        "    B.append(lista)\n",
        "  elif lista[1] > 2010:\n",
        "    C.append(lista)"
      ],
      "metadata": {
        "id": "kVRIsRy2ilR5"
      },
      "execution_count": null,
      "outputs": []
    },
    {
      "cell_type": "code",
      "source": [
        "A"
      ],
      "metadata": {
        "colab": {
          "base_uri": "https://localhost:8080/"
        },
        "id": "4Y8YsuLAi_eM",
        "outputId": "32fc44fe-6e21-4d78-c962-9cb705d7e6f9"
      },
      "execution_count": null,
      "outputs": [
        {
          "output_type": "execute_result",
          "data": {
            "text/plain": [
              "[['Passat', 1991, False], ['Crossfox', 1990, False]]"
            ]
          },
          "metadata": {},
          "execution_count": 62
        }
      ]
    },
    {
      "cell_type": "code",
      "source": [
        "B"
      ],
      "metadata": {
        "colab": {
          "base_uri": "https://localhost:8080/"
        },
        "id": "D4V6NkjTi_tR",
        "outputId": "f599fc04-efc0-42f5-9806-1f161af81b31"
      },
      "execution_count": null,
      "outputs": [
        {
          "output_type": "execute_result",
          "data": {
            "text/plain": [
              "[['Jetta Variant', 2003, False],\n",
              " ['Aston Martin DB4', 2006, False],\n",
              " ['Série 3 Cabrio', 2009, False]]"
            ]
          },
          "metadata": {},
          "execution_count": 63
        }
      ]
    },
    {
      "cell_type": "code",
      "source": [
        "C"
      ],
      "metadata": {
        "colab": {
          "base_uri": "https://localhost:8080/"
        },
        "id": "efFiXIegi_1f",
        "outputId": "27cca773-b110-4fd8-e4d1-9a38e48be139"
      },
      "execution_count": null,
      "outputs": [
        {
          "output_type": "execute_result",
          "data": {
            "text/plain": [
              "[['DS5', 2019, True],\n",
              " ['Palio Weekend', 2012, False],\n",
              " ['A5', 2019, True],\n",
              " ['Dodge Jorney', 2019, False],\n",
              " ['Carens', 2011, False]]"
            ]
          },
          "metadata": {},
          "execution_count": 64
        }
      ]
    },
    {
      "cell_type": "markdown",
      "source": [
        "# NUMPY BÁSICO\n",
        "---\n",
        "\n",
        "Numpy é a abreviação de Numerical Python e é um dos pacotes mais importantes para processamento numérico em Python. Numpy oferece a base para a maioria dos pacotes de aplicações científicas que utilizem dados numéricos em Python (estruturas de dados e algoritmos). Pode-se destacar os seguintes recursos que o pacote Numpy contém:\n",
        "\n",
        "- Um poderoso objeto array multidimensional;\n",
        "- Funções matemáticas sofisticadas para operações com arrays sem a necessidade de utilização de laços *for*;\n",
        "- Recursos de algebra linear e geração de números aleatórios\n",
        "\n",
        "Além de seus óbvios usos científicos, o pacote NumPy também é muito utilizado em análise de dados como um eficiente contêiner multidimensional de dados genéricos para transporte entre diversos algoritmos e bibliotecas em Python.\n",
        "\n",
        "**Versão:** 1.16.5\n",
        "\n",
        "**Instalação:** https://scipy.org/install.html\n",
        "\n",
        "**Documentação:** https://numpy.org/doc/1.16/"
      ],
      "metadata": {
        "id": "JwCPRtELl9ic"
      }
    },
    {
      "cell_type": "markdown",
      "source": [
        "**Pacotes**\n",
        "\n",
        "Existem diversos pacotes Python disponíveis para download na internet. Cada pacote tem como objetivo a solução de determinado tipo de problema e para isso são desenvolvidos novos tipos, funções e métodos.\n",
        "\n",
        "Alguns pacotes são bastante utilizados em um contexto de ciência de dados como por exemplo:\n",
        "\n",
        "- Numpy\n",
        "- Pandas\n",
        "- Scikit-learn\n",
        "- Matplotlib\n",
        "\n",
        "Alguns pacotes não são distribuídos com a instalação default do Python. Neste caso devemos instalar os pacotes que necessitamos em nosso sistema para podermos utilizar suas funcionalidades."
      ],
      "metadata": {
        "id": "bvAEk_GomQsx"
      }
    },
    {
      "cell_type": "code",
      "source": [
        "#importando o pacote numpy\n",
        "import numpy as np"
      ],
      "metadata": {
        "id": "Bp-je-zTmB-x"
      },
      "execution_count": null,
      "outputs": []
    },
    {
      "cell_type": "code",
      "source": [
        "#usando uma função do numpy\n",
        "np.arange(10)"
      ],
      "metadata": {
        "colab": {
          "base_uri": "https://localhost:8080/"
        },
        "id": "Oao7mgGEn7Ut",
        "outputId": "7f704984-5642-459e-fedb-6aa02a16006b"
      },
      "execution_count": null,
      "outputs": [
        {
          "output_type": "execute_result",
          "data": {
            "text/plain": [
              "array([0, 1, 2, 3, 4, 5, 6, 7, 8, 9])"
            ]
          },
          "metadata": {},
          "execution_count": 66
        }
      ]
    },
    {
      "cell_type": "code",
      "source": [
        "#importando apenas uma parte do pacote\n",
        "from numpy import arange "
      ],
      "metadata": {
        "id": "jc_JOEeboGjH"
      },
      "execution_count": null,
      "outputs": []
    },
    {
      "cell_type": "markdown",
      "source": [
        "##**Criando arrays Numpy**"
      ],
      "metadata": {
        "id": "PxndoxByog6p"
      }
    },
    {
      "cell_type": "code",
      "source": [
        "import numpy as np"
      ],
      "metadata": {
        "id": "wwYr_hv7of7w"
      },
      "execution_count": null,
      "outputs": []
    },
    {
      "cell_type": "code",
      "source": [
        "#criando um array\n",
        "km = np.array([1000, 2300, 4987, 1500])"
      ],
      "metadata": {
        "id": "wCkLvafRou07"
      },
      "execution_count": null,
      "outputs": []
    },
    {
      "cell_type": "code",
      "source": [
        "#entendendo o tipo da variáve\n",
        "type(km)"
      ],
      "metadata": {
        "colab": {
          "base_uri": "https://localhost:8080/"
        },
        "id": "B6nwQU-jo2Zp",
        "outputId": "731c37ba-c9df-4eb6-bb37-c99439896878"
      },
      "execution_count": null,
      "outputs": [
        {
          "output_type": "execute_result",
          "data": {
            "text/plain": [
              "numpy.ndarray"
            ]
          },
          "metadata": {},
          "execution_count": 73
        }
      ]
    },
    {
      "cell_type": "code",
      "source": [
        "#entender qual é o tipo de valor armazenado na variável km\n",
        "km.dtype"
      ],
      "metadata": {
        "colab": {
          "base_uri": "https://localhost:8080/"
        },
        "id": "rJBxlLiyo5uN",
        "outputId": "8c9ee2b3-55d3-4b66-babf-22b2f64d4813"
      },
      "execution_count": null,
      "outputs": [
        {
          "output_type": "execute_result",
          "data": {
            "text/plain": [
              "dtype('int64')"
            ]
          },
          "metadata": {},
          "execution_count": 74
        }
      ]
    },
    {
      "cell_type": "markdown",
      "source": [
        "**Carregando dados externos**"
      ],
      "metadata": {
        "id": "uutksLsApzKb"
      }
    },
    {
      "cell_type": "code",
      "source": [
        "#utilizando a função do numpy para carregar os dados com formato de texto\n",
        "km = np.loadtxt(fname = 'carros-km.txt', dtype = int)"
      ],
      "metadata": {
        "id": "u6ucVh-fpGDW"
      },
      "execution_count": null,
      "outputs": []
    },
    {
      "cell_type": "code",
      "source": [
        "km"
      ],
      "metadata": {
        "id": "szSJxL-sp959"
      },
      "execution_count": null,
      "outputs": []
    },
    {
      "cell_type": "markdown",
      "source": [
        "**Arrays com duas dimensões**"
      ],
      "metadata": {
        "id": "1v6wuhgAqDDJ"
      }
    },
    {
      "cell_type": "code",
      "source": [
        "#carregando listas dentro de uma lista\n",
        "dados = [ \n",
        "    ['Rodas de liga', 'Travas elétricas', 'Piloto automático', 'Bancos de couro', 'Ar condicionado', 'Sensor de estacionamento', 'Sensor crepuscular', 'Sensor de chuva'],\n",
        "    ['Central multimídia', 'Teto panorâmico', 'Freios ABS', '4 X 4', 'Painel digital', 'Piloto automático', 'Bancos de couro', 'Câmera de estacionamento'],\n",
        "    ['Piloto automático', 'Controle de estabilidade', 'Sensor crepuscular', 'Freios ABS', 'Câmbio automático', 'Bancos de couro', 'Central multimídia', 'Vidros elétricos']\n",
        "]\n",
        "dados"
      ],
      "metadata": {
        "colab": {
          "base_uri": "https://localhost:8080/"
        },
        "id": "suOGqoh4p-83",
        "outputId": "e12f85d4-fc2f-455f-bb5a-fa7eaf34d24b"
      },
      "execution_count": null,
      "outputs": [
        {
          "output_type": "execute_result",
          "data": {
            "text/plain": [
              "[['Rodas de liga',\n",
              "  'Travas elétricas',\n",
              "  'Piloto automático',\n",
              "  'Bancos de couro',\n",
              "  'Ar condicionado',\n",
              "  'Sensor de estacionamento',\n",
              "  'Sensor crepuscular',\n",
              "  'Sensor de chuva'],\n",
              " ['Central multimídia',\n",
              "  'Teto panorâmico',\n",
              "  'Freios ABS',\n",
              "  '4 X 4',\n",
              "  'Painel digital',\n",
              "  'Piloto automático',\n",
              "  'Bancos de couro',\n",
              "  'Câmera de estacionamento'],\n",
              " ['Piloto automático',\n",
              "  'Controle de estabilidade',\n",
              "  'Sensor crepuscular',\n",
              "  'Freios ABS',\n",
              "  'Câmbio automático',\n",
              "  'Bancos de couro',\n",
              "  'Central multimídia',\n",
              "  'Vidros elétricos']]"
            ]
          },
          "metadata": {},
          "execution_count": 81
        }
      ]
    },
    {
      "cell_type": "code",
      "source": [
        "#criando um array com base nas listas\n",
        "acessorios = np.array(dados)"
      ],
      "metadata": {
        "id": "g_fqYFjHqGX3"
      },
      "execution_count": null,
      "outputs": []
    },
    {
      "cell_type": "code",
      "source": [
        "acessorios"
      ],
      "metadata": {
        "colab": {
          "base_uri": "https://localhost:8080/"
        },
        "id": "XLGW85DXqRKu",
        "outputId": "a0c5d5db-97a5-4207-dd31-b753afc900ec"
      },
      "execution_count": null,
      "outputs": [
        {
          "output_type": "execute_result",
          "data": {
            "text/plain": [
              "array([['Rodas de liga', 'Travas elétricas', 'Piloto automático',\n",
              "        'Bancos de couro', 'Ar condicionado', 'Sensor de estacionamento',\n",
              "        'Sensor crepuscular', 'Sensor de chuva'],\n",
              "       ['Central multimídia', 'Teto panorâmico', 'Freios ABS', '4 X 4',\n",
              "        'Painel digital', 'Piloto automático', 'Bancos de couro',\n",
              "        'Câmera de estacionamento'],\n",
              "       ['Piloto automático', 'Controle de estabilidade',\n",
              "        'Sensor crepuscular', 'Freios ABS', 'Câmbio automático',\n",
              "        'Bancos de couro', 'Central multimídia', 'Vidros elétricos']],\n",
              "      dtype='<U24')"
            ]
          },
          "metadata": {},
          "execution_count": 80
        }
      ]
    },
    {
      "cell_type": "code",
      "source": [
        "#entendendo o tamanho do array km criado (externo)\n",
        "km.shape\n",
        "#linha, coluna"
      ],
      "metadata": {
        "colab": {
          "base_uri": "https://localhost:8080/"
        },
        "id": "X1FhwKMyqS4r",
        "outputId": "1304a6f2-fcb3-42f2-f2ec-efff73bbfeba"
      },
      "execution_count": null,
      "outputs": [
        {
          "output_type": "execute_result",
          "data": {
            "text/plain": [
              "(258,)"
            ]
          },
          "metadata": {},
          "execution_count": 86
        }
      ]
    },
    {
      "cell_type": "code",
      "source": [
        "#entendendo o tamanho do array acessorios (array com lista de listas)\n",
        "acessorios.shape\n",
        "#linha, coluna"
      ],
      "metadata": {
        "colab": {
          "base_uri": "https://localhost:8080/"
        },
        "id": "7wjMJby5qgT9",
        "outputId": "9685bbe5-27e4-4893-bf63-2e7377352de5"
      },
      "execution_count": null,
      "outputs": [
        {
          "output_type": "execute_result",
          "data": {
            "text/plain": [
              "(3, 8)"
            ]
          },
          "metadata": {},
          "execution_count": 87
        }
      ]
    },
    {
      "cell_type": "markdown",
      "source": [
        "**Comparando o desempenho com listas**"
      ],
      "metadata": {
        "id": "3uYz3--nq4VZ"
      }
    },
    {
      "cell_type": "code",
      "source": [
        "np_array = np.arange(1000000)"
      ],
      "metadata": {
        "id": "c_zHoKlxqtws"
      },
      "execution_count": null,
      "outputs": []
    },
    {
      "cell_type": "code",
      "source": [
        "py_list = list(range(1000000))"
      ],
      "metadata": {
        "id": "UjhEO-hQrDlr"
      },
      "execution_count": null,
      "outputs": []
    },
    {
      "cell_type": "code",
      "source": [
        "#vendo o percentual do tempo de execução para np_array\n",
        "#multiplicando o valor por 2\n",
        "%time for _ in range(100): np_array *= 2"
      ],
      "metadata": {
        "colab": {
          "base_uri": "https://localhost:8080/"
        },
        "id": "FFdMcgharJe1",
        "outputId": "d7055cb7-f749-4c14-e38b-2b5280424a3e"
      },
      "execution_count": null,
      "outputs": [
        {
          "output_type": "stream",
          "name": "stdout",
          "text": [
            "CPU times: user 82.3 ms, sys: 0 ns, total: 82.3 ms\n",
            "Wall time: 83.4 ms\n"
          ]
        }
      ]
    },
    {
      "cell_type": "code",
      "source": [
        "#vendo o percentual do tempo de execução para py_list\n",
        "#multiplicando o valor por 2\n",
        "%time for _ in range(100): py_list = [x * 2 for x in py_list]"
      ],
      "metadata": {
        "colab": {
          "base_uri": "https://localhost:8080/"
        },
        "id": "g3HMBHQDrdPv",
        "outputId": "fc352a53-199d-4558-f589-a799d97738c6"
      },
      "execution_count": null,
      "outputs": [
        {
          "output_type": "stream",
          "name": "stdout",
          "text": [
            "CPU times: user 9.5 s, sys: 2.46 s, total: 12 s\n",
            "Wall time: 12 s\n"
          ]
        }
      ]
    },
    {
      "cell_type": "code",
      "source": [
        "#a diferença dos dois executando a mesma função é notavel, enquanto o array numpy demorou 83 milisegundos a lista do python demorou 12 segundos"
      ],
      "metadata": {
        "id": "5sUa_le0rt5n"
      },
      "execution_count": null,
      "outputs": []
    },
    {
      "cell_type": "markdown",
      "source": [
        "## **Operações Aritméticas com arrays Numpy**\n"
      ],
      "metadata": {
        "id": "I5A6WGPBs8yo"
      }
    },
    {
      "cell_type": "markdown",
      "source": [
        "### **Operações entre arrays e constantes**"
      ],
      "metadata": {
        "id": "SOF7sab_tIbl"
      }
    },
    {
      "cell_type": "code",
      "source": [
        "#listas do Python\n",
        "km = [44410., 5712., 37123., 0., 25757.]\n",
        "anos = [2003, 1991, 1990, 2019, 2006]"
      ],
      "metadata": {
        "id": "XYiCf5A6tEu3"
      },
      "execution_count": null,
      "outputs": []
    },
    {
      "cell_type": "code",
      "source": [
        "#vamos tentar ver os anos do carro, de que forma? ano atual - ano do carro\n",
        "#de primeiro momento, de forma lógica pensariamos em fazer da forma abaixo:\n",
        "\n",
        "#idade = 2022 - anos\n",
        "#idade\n",
        "\n",
        "#ocorre um erro, pois ele não suporta uma operação entre o valor inteiro e uma lista, \n",
        "#no entanto, os Arrays Numpy suportam"
      ],
      "metadata": {
        "id": "KfPyvPlutkUa"
      },
      "execution_count": null,
      "outputs": []
    },
    {
      "cell_type": "code",
      "source": [
        "#arrays Numpy\n",
        "km = np.array([44410., 5712., 37123., 0., 25757.])\n",
        "anos = np.array([2003, 1991, 1990, 2019, 2006])"
      ],
      "metadata": {
        "id": "DOlB8-h-te6Y"
      },
      "execution_count": null,
      "outputs": []
    },
    {
      "cell_type": "code",
      "source": [
        "idade = 2022 - anos\n",
        "idade"
      ],
      "metadata": {
        "colab": {
          "base_uri": "https://localhost:8080/"
        },
        "id": "uv8dleHctim0",
        "outputId": "28138455-8e9c-4a7a-805f-1a1d45124fda"
      },
      "execution_count": null,
      "outputs": [
        {
          "output_type": "execute_result",
          "data": {
            "text/plain": [
              "array([19, 31, 32,  3, 16])"
            ]
          },
          "metadata": {},
          "execution_count": 103
        }
      ]
    },
    {
      "cell_type": "markdown",
      "source": [
        "### **Operações entre arrays**"
      ],
      "metadata": {
        "id": "DwklPgAQubjD"
      }
    },
    {
      "cell_type": "code",
      "source": [
        "#calculando a idade média de cada veículo\n",
        "km = np.array([44410., 5712., 37123., 0., 25757.])\n",
        "anos = np.array([2003, 1991, 1990, 2019, 2006])\n",
        "idade = 2022 - anos\n",
        "\n",
        "km_media = km / idade\n",
        "km_media"
      ],
      "metadata": {
        "colab": {
          "base_uri": "https://localhost:8080/"
        },
        "id": "LwdpZd7QuVqU",
        "outputId": "03606cc1-cd80-4de5-e4de-318c81e5ab16"
      },
      "execution_count": null,
      "outputs": [
        {
          "output_type": "execute_result",
          "data": {
            "text/plain": [
              "array([2337.36842105,  184.25806452, 1160.09375   ,    0.        ,\n",
              "       1609.8125    ])"
            ]
          },
          "metadata": {},
          "execution_count": 105
        }
      ]
    },
    {
      "cell_type": "code",
      "source": [
        "#como ele fez na prática essa conta?\n",
        "#km [0] / (idade[0])\n",
        "\n",
        "44410 / (2022 - 2003)\n",
        "\n",
        "#é bem mais simples fazer com os arrays pela comodidade"
      ],
      "metadata": {
        "colab": {
          "base_uri": "https://localhost:8080/"
        },
        "id": "yF9imtMnuwTH",
        "outputId": "ef1e68f4-8553-43ce-9ed6-716f572ea224"
      },
      "execution_count": null,
      "outputs": [
        {
          "output_type": "execute_result",
          "data": {
            "text/plain": [
              "2337.3684210526317"
            ]
          },
          "metadata": {},
          "execution_count": 107
        }
      ]
    },
    {
      "cell_type": "markdown",
      "source": [
        "### **Operações com arrays de duas dimensões**\n"
      ],
      "metadata": {
        "id": "d3jCtSFWvOxc"
      }
    },
    {
      "cell_type": "code",
      "source": [
        "dados = np.array([km, anos])"
      ],
      "metadata": {
        "id": "-wHZgsefut9m"
      },
      "execution_count": null,
      "outputs": []
    },
    {
      "cell_type": "code",
      "source": [
        "dados"
      ],
      "metadata": {
        "colab": {
          "base_uri": "https://localhost:8080/"
        },
        "id": "vOIu_snKvZ8F",
        "outputId": "cadd7e26-9f70-48c2-e284-aec3606097cc"
      },
      "execution_count": null,
      "outputs": [
        {
          "output_type": "execute_result",
          "data": {
            "text/plain": [
              "array([[44410.,  5712., 37123.,     0., 25757.],\n",
              "       [ 2003.,  1991.,  1990.,  2019.,  2006.]])"
            ]
          },
          "metadata": {},
          "execution_count": 110
        }
      ]
    },
    {
      "cell_type": "code",
      "source": [
        "dados.shape\n",
        "#linhas, colunas"
      ],
      "metadata": {
        "colab": {
          "base_uri": "https://localhost:8080/"
        },
        "id": "ox_d0J6hvfaC",
        "outputId": "47c9a6d5-9768-4cc5-b619-610b89397bf6"
      },
      "execution_count": null,
      "outputs": [
        {
          "output_type": "execute_result",
          "data": {
            "text/plain": [
              "(2, 5)"
            ]
          },
          "metadata": {},
          "execution_count": 112
        }
      ]
    },
    {
      "cell_type": "markdown",
      "source": [
        "![1410-img01.png](https://caelum-online-public.s3.amazonaws.com/1410-pythondatascience/01/1410-img01.png)"
      ],
      "metadata": {
        "id": "9lLk8hPbvkTG"
      }
    },
    {
      "cell_type": "code",
      "source": [
        "#como acessar os itens para fazer a conta da km_média do primeiro veiculo?\n",
        "dados[0][0]/(2022 - dados[1][0])"
      ],
      "metadata": {
        "colab": {
          "base_uri": "https://localhost:8080/"
        },
        "id": "paqhtj_1vj_O",
        "outputId": "2c40f289-dfc8-4703-9109-7e82be3e9164"
      },
      "execution_count": null,
      "outputs": [
        {
          "output_type": "execute_result",
          "data": {
            "text/plain": [
              "2337.3684210526317"
            ]
          },
          "metadata": {},
          "execution_count": 115
        }
      ]
    },
    {
      "cell_type": "code",
      "source": [
        "#e se ao invés de um item querer saber os valores de todos os veiculos?\n",
        "km_media = dados[0] / (2022 - dados[1])\n",
        "km_media"
      ],
      "metadata": {
        "colab": {
          "base_uri": "https://localhost:8080/"
        },
        "id": "0n-j0wMqwERI",
        "outputId": "54926d70-dc2d-4251-cc2c-b88b006e7213"
      },
      "execution_count": null,
      "outputs": [
        {
          "output_type": "execute_result",
          "data": {
            "text/plain": [
              "array([2337.36842105,  184.25806452, 1160.09375   ,    0.        ,\n",
              "       1609.8125    ])"
            ]
          },
          "metadata": {},
          "execution_count": 117
        }
      ]
    },
    {
      "cell_type": "markdown",
      "source": [
        "### **Indexação**"
      ],
      "metadata": {
        "id": "1hjjK0Ddy7QL"
      }
    },
    {
      "cell_type": "code",
      "source": [
        "#criando um array para trabalhar com a indexação dentro dele\n",
        "contador = np.arange(10)\n",
        "contador"
      ],
      "metadata": {
        "colab": {
          "base_uri": "https://localhost:8080/"
        },
        "id": "Q-hOnDztzEC5",
        "outputId": "07273288-e930-47c9-f167-1fa99fcb7bdb"
      },
      "execution_count": null,
      "outputs": [
        {
          "output_type": "execute_result",
          "data": {
            "text/plain": [
              "array([0, 1, 2, 3, 4, 5, 6, 7, 8, 9])"
            ]
          },
          "metadata": {},
          "execution_count": 120
        }
      ]
    },
    {
      "cell_type": "code",
      "source": [
        "#trazendo o primeiro valor da variável contador\n",
        "contador[0]"
      ],
      "metadata": {
        "colab": {
          "base_uri": "https://localhost:8080/"
        },
        "id": "YKzFX9W8zIoI",
        "outputId": "95f2560f-f7a8-44c8-e78f-678606e4b6db"
      },
      "execution_count": null,
      "outputs": [
        {
          "output_type": "execute_result",
          "data": {
            "text/plain": [
              "0"
            ]
          },
          "metadata": {},
          "execution_count": 121
        }
      ]
    },
    {
      "cell_type": "code",
      "source": [
        "item = 6 #caso eu queria pegar o item 6\n",
        "index = item - 1 #o index tem que ser o item (6) menos 1\n",
        "contador[index]"
      ],
      "metadata": {
        "colab": {
          "base_uri": "https://localhost:8080/"
        },
        "id": "5PzD1FDEzLri",
        "outputId": "3932a9f0-1e59-45ef-99d1-c46530884437"
      },
      "execution_count": null,
      "outputs": [
        {
          "output_type": "execute_result",
          "data": {
            "text/plain": [
              "5"
            ]
          },
          "metadata": {},
          "execution_count": 122
        }
      ]
    },
    {
      "cell_type": "code",
      "source": [
        "#pegando o último item da lista\n",
        "contador[-1]"
      ],
      "metadata": {
        "colab": {
          "base_uri": "https://localhost:8080/"
        },
        "id": "tnQPhnuUzfJU",
        "outputId": "6a2acf97-7e5e-44fe-8854-8cbb13af121b"
      },
      "execution_count": null,
      "outputs": [
        {
          "output_type": "execute_result",
          "data": {
            "text/plain": [
              "9"
            ]
          },
          "metadata": {},
          "execution_count": 123
        }
      ]
    },
    {
      "cell_type": "code",
      "source": [
        "#pegando a primeira linha\n",
        "dados[0]"
      ],
      "metadata": {
        "colab": {
          "base_uri": "https://localhost:8080/"
        },
        "id": "JmocUsue0TmQ",
        "outputId": "b856d723-5844-4819-e45c-6d70a0249856"
      },
      "execution_count": null,
      "outputs": [
        {
          "output_type": "execute_result",
          "data": {
            "text/plain": [
              "array([44410.,  5712., 37123.,     0., 25757.])"
            ]
          },
          "metadata": {},
          "execution_count": 124
        }
      ]
    },
    {
      "cell_type": "code",
      "source": [
        "#pegando a segunda linha\n",
        "dados[1]"
      ],
      "metadata": {
        "colab": {
          "base_uri": "https://localhost:8080/"
        },
        "id": "8hiM15H90WVv",
        "outputId": "6ce8831f-fc26-4d9b-935a-7627530cdc5b"
      },
      "execution_count": null,
      "outputs": [
        {
          "output_type": "execute_result",
          "data": {
            "text/plain": [
              "array([2003., 1991., 1990., 2019., 2006.])"
            ]
          },
          "metadata": {},
          "execution_count": 125
        }
      ]
    },
    {
      "cell_type": "code",
      "source": [
        "#pegando o terceiro linha da segunda linha\n",
        "dados[1][2]"
      ],
      "metadata": {
        "colab": {
          "base_uri": "https://localhost:8080/"
        },
        "id": "-dMkt2iK0ZXv",
        "outputId": "7708ed6b-4784-46b4-bac0-33a9a19fc604"
      },
      "execution_count": null,
      "outputs": [
        {
          "output_type": "execute_result",
          "data": {
            "text/plain": [
              "1990.0"
            ]
          },
          "metadata": {},
          "execution_count": 126
        }
      ]
    },
    {
      "cell_type": "markdown",
      "source": [
        "### **Fatiamento**"
      ],
      "metadata": {
        "id": "2bhH8IYF0lG0"
      }
    },
    {
      "cell_type": "code",
      "source": [
        "#criando um array para trabalhar com a fatiamento dentro dele\n",
        "contador = np.arange(10)\n",
        "contador"
      ],
      "metadata": {
        "colab": {
          "base_uri": "https://localhost:8080/"
        },
        "id": "37bBtNz30dl_",
        "outputId": "3c5dc6e0-8bbd-42bc-c7ce-03df6d53a297"
      },
      "execution_count": null,
      "outputs": [
        {
          "output_type": "execute_result",
          "data": {
            "text/plain": [
              "array([0, 1, 2, 3, 4, 5, 6, 7, 8, 9])"
            ]
          },
          "metadata": {},
          "execution_count": 127
        }
      ]
    },
    {
      "cell_type": "code",
      "source": [
        "#selecionando valores 1, 2 e 3\n",
        "contador[1:4]"
      ],
      "metadata": {
        "colab": {
          "base_uri": "https://localhost:8080/"
        },
        "id": "QhcV4eqa0rgg",
        "outputId": "659ff846-9d9c-456e-f128-fbfe7e623c49"
      },
      "execution_count": null,
      "outputs": [
        {
          "output_type": "execute_result",
          "data": {
            "text/plain": [
              "array([1, 2, 3])"
            ]
          },
          "metadata": {},
          "execution_count": 128
        }
      ]
    },
    {
      "cell_type": "code",
      "source": [
        "#quero ir do 1 até o 7 apenas pegando os valores impares\n",
        "contador[1:8:2]\n",
        "\n",
        "#o passo dois pega um valor sim, valor não = \"pulos\""
      ],
      "metadata": {
        "colab": {
          "base_uri": "https://localhost:8080/"
        },
        "id": "TO7UF86-064o",
        "outputId": "aaebbea3-561d-4591-8d4f-f5409c0e7038"
      },
      "execution_count": null,
      "outputs": [
        {
          "output_type": "execute_result",
          "data": {
            "text/plain": [
              "array([1, 3, 5, 7])"
            ]
          },
          "metadata": {},
          "execution_count": 131
        }
      ]
    },
    {
      "cell_type": "code",
      "source": [
        "#pegando todos os valores pares de um forma difente:\n",
        "contador[::2]\n",
        "\n",
        "#indo do começo ao fim de dois em dois"
      ],
      "metadata": {
        "colab": {
          "base_uri": "https://localhost:8080/"
        },
        "id": "NHL61Hym1NV_",
        "outputId": "787a4a23-f68f-493e-a23a-2b75d888373b"
      },
      "execution_count": null,
      "outputs": [
        {
          "output_type": "execute_result",
          "data": {
            "text/plain": [
              "array([0, 2, 4, 6, 8])"
            ]
          },
          "metadata": {},
          "execution_count": 132
        }
      ]
    },
    {
      "cell_type": "code",
      "source": [
        "#caso queira os impares da mesma forma:\n",
        "contador[1::2]"
      ],
      "metadata": {
        "colab": {
          "base_uri": "https://localhost:8080/"
        },
        "id": "Ma6QfY3c1UlR",
        "outputId": "5f8eda5d-b795-4edd-b56b-d02a8b427b10"
      },
      "execution_count": null,
      "outputs": [
        {
          "output_type": "execute_result",
          "data": {
            "text/plain": [
              "array([1, 3, 5, 7, 9])"
            ]
          },
          "metadata": {},
          "execution_count": 133
        }
      ]
    },
    {
      "cell_type": "code",
      "source": [
        "dados"
      ],
      "metadata": {
        "colab": {
          "base_uri": "https://localhost:8080/"
        },
        "id": "pF_2FxDP1bz4",
        "outputId": "50548ce5-457f-4c5a-e418-2c9392398cd3"
      },
      "execution_count": null,
      "outputs": [
        {
          "output_type": "execute_result",
          "data": {
            "text/plain": [
              "array([[44410.,  5712., 37123.,     0., 25757.],\n",
              "       [ 2003.,  1991.,  1990.,  2019.,  2006.]])"
            ]
          },
          "metadata": {},
          "execution_count": 134
        }
      ]
    },
    {
      "cell_type": "code",
      "source": [
        "#pegando as duas linhas que tem os valores 5712, 37123 e 0 de dados\n",
        "dados[:,1:4]\n",
        "\n",
        "#traduzindo: [todas as linhas:, dos itens 1 até 3 (1:4(4 é excludente))]"
      ],
      "metadata": {
        "colab": {
          "base_uri": "https://localhost:8080/"
        },
        "id": "MbUcgFRT1ir6",
        "outputId": "dde8fdd5-fb09-4d2b-825d-7a566a693a3a"
      },
      "execution_count": null,
      "outputs": [
        {
          "output_type": "execute_result",
          "data": {
            "text/plain": [
              "array([[ 5712., 37123.,     0.],\n",
              "       [ 1991.,  1990.,  2019.]])"
            ]
          },
          "metadata": {},
          "execution_count": 141
        }
      ]
    },
    {
      "cell_type": "code",
      "source": [
        "#calculando a kilometragem média dos 3 veículos\n",
        "dados[:,1:4][0]/(2022 - dados[:,1:4][1])"
      ],
      "metadata": {
        "colab": {
          "base_uri": "https://localhost:8080/"
        },
        "id": "9ckTCkLM2C8N",
        "outputId": "d04ebae9-95e2-4e5f-902e-eb91cb25ece5"
      },
      "execution_count": null,
      "outputs": [
        {
          "output_type": "execute_result",
          "data": {
            "text/plain": [
              "array([ 184.25806452, 1160.09375   ,    0.        ])"
            ]
          },
          "metadata": {},
          "execution_count": 143
        }
      ]
    },
    {
      "cell_type": "markdown",
      "source": [
        "### **Indexação com array Booleano**"
      ],
      "metadata": {
        "id": "TejAYCcN2wHT"
      }
    },
    {
      "cell_type": "code",
      "source": [
        "#vendo quais valores do array contador são maiores que 5\n",
        "contador > 5"
      ],
      "metadata": {
        "colab": {
          "base_uri": "https://localhost:8080/"
        },
        "id": "_0D8WQK41rL3",
        "outputId": "0f6d59bb-25ff-45ba-a5cb-e16b79aa6c8b"
      },
      "execution_count": null,
      "outputs": [
        {
          "output_type": "execute_result",
          "data": {
            "text/plain": [
              "array([False, False, False, False, False, False,  True,  True,  True,\n",
              "        True])"
            ]
          },
          "metadata": {},
          "execution_count": 144
        }
      ]
    },
    {
      "cell_type": "code",
      "source": [
        "#selecionando apenas os valores do array contador que são maiores que 5\n",
        "contador[contador > 5]\n",
        "\n",
        "#o código acima é o mesmo do abaixo, mas de forma muito mais simplificada:\n",
        "contador[[False, False, False, False, False, False,  True,  True,  True,  True]]"
      ],
      "metadata": {
        "colab": {
          "base_uri": "https://localhost:8080/"
        },
        "id": "oGV6bXCD27Gh",
        "outputId": "67e1d1fe-18c6-42b4-e454-5cb94fd271fe"
      },
      "execution_count": null,
      "outputs": [
        {
          "output_type": "execute_result",
          "data": {
            "text/plain": [
              "array([6, 7, 8, 9])"
            ]
          },
          "metadata": {},
          "execution_count": 148
        }
      ]
    },
    {
      "cell_type": "code",
      "source": [
        "dados"
      ],
      "metadata": {
        "colab": {
          "base_uri": "https://localhost:8080/"
        },
        "id": "BEBfFq9W3SF6",
        "outputId": "f087cb0b-1d74-4152-97d3-3614b40cbf8d"
      },
      "execution_count": null,
      "outputs": [
        {
          "output_type": "execute_result",
          "data": {
            "text/plain": [
              "array([[44410.,  5712., 37123.,     0., 25757.],\n",
              "       [ 2003.,  1991.,  1990.,  2019.,  2006.]])"
            ]
          },
          "metadata": {},
          "execution_count": 149
        }
      ]
    },
    {
      "cell_type": "code",
      "source": [
        "#pegando os veículos que foram fabricados a partir do ano 2000\n",
        "dados_2000 = dados[:,dados[1] > 2000]"
      ],
      "metadata": {
        "id": "SYBnKSFB3Te9"
      },
      "execution_count": null,
      "outputs": []
    },
    {
      "cell_type": "code",
      "source": [
        "#calculando qual a kilometragem média de cada veículo\n",
        "km_media_2000 = dados_2000[0] / (2022 - dados_2000[1])\n",
        "km_media_2000"
      ],
      "metadata": {
        "colab": {
          "base_uri": "https://localhost:8080/"
        },
        "id": "DGdQkfzN30aY",
        "outputId": "59468acd-c4b5-4502-98a1-5ae7821aa5e6"
      },
      "execution_count": null,
      "outputs": [
        {
          "output_type": "execute_result",
          "data": {
            "text/plain": [
              "array([2337.36842105,    0.        , 1609.8125    ])"
            ]
          },
          "metadata": {},
          "execution_count": 160
        }
      ]
    },
    {
      "cell_type": "markdown",
      "source": [
        "## **Atributos e métodos de arrays Numpy**"
      ],
      "metadata": {
        "id": "JzLEA_-K462Y"
      }
    },
    {
      "cell_type": "code",
      "source": [
        "dados = np.array([[44410., 5712., 37123., 0., 25757.],\n",
        "                 [2003, 1991, 1990, 2019, 2006]])\n",
        "dados"
      ],
      "metadata": {
        "colab": {
          "base_uri": "https://localhost:8080/"
        },
        "id": "rdRPqQOu4_BW",
        "outputId": "69cff9a2-22c0-4073-9343-fd55e15b5bc0"
      },
      "execution_count": null,
      "outputs": [
        {
          "output_type": "execute_result",
          "data": {
            "text/plain": [
              "array([[44410.,  5712., 37123.,     0., 25757.],\n",
              "       [ 2003.,  1991.,  1990.,  2019.,  2006.]])"
            ]
          },
          "metadata": {},
          "execution_count": 164
        }
      ]
    },
    {
      "cell_type": "markdown",
      "source": [
        "## *ndarray.shape*\n",
        "\n",
        "Retorna uma tupla com as dimensões do array:\n",
        "linhas, colunas"
      ],
      "metadata": {
        "id": "PBG2_tSV5kCt"
      }
    },
    {
      "cell_type": "code",
      "source": [
        "dados.shape"
      ],
      "metadata": {
        "colab": {
          "base_uri": "https://localhost:8080/"
        },
        "id": "Vxd1b7qH5i-R",
        "outputId": "2ac11934-10b3-4ad9-f089-0ae46e57aeab"
      },
      "execution_count": null,
      "outputs": [
        {
          "output_type": "execute_result",
          "data": {
            "text/plain": [
              "(2, 5)"
            ]
          },
          "metadata": {},
          "execution_count": 165
        }
      ]
    },
    {
      "cell_type": "markdown",
      "source": [
        "## *ndarray.ndim*\n",
        "\n",
        "Retorna o número de dimensões do array."
      ],
      "metadata": {
        "id": "QVjir_hz5xVS"
      }
    },
    {
      "cell_type": "code",
      "source": [
        "dados.ndim"
      ],
      "metadata": {
        "colab": {
          "base_uri": "https://localhost:8080/"
        },
        "id": "us6O6BG05rPR",
        "outputId": "6241cfe8-2508-4ac3-8088-6be9bc44385d"
      },
      "execution_count": null,
      "outputs": [
        {
          "output_type": "execute_result",
          "data": {
            "text/plain": [
              "2"
            ]
          },
          "metadata": {},
          "execution_count": 166
        }
      ]
    },
    {
      "cell_type": "markdown",
      "source": [
        "## *ndarray.size*\n",
        "\n",
        "Retorna o número de elementos do array."
      ],
      "metadata": {
        "id": "uygtBhKw50e2"
      }
    },
    {
      "cell_type": "code",
      "source": [
        "dados.size"
      ],
      "metadata": {
        "colab": {
          "base_uri": "https://localhost:8080/"
        },
        "id": "mykoG4Va52LH",
        "outputId": "fae3e576-641d-4a9e-d72e-25c38534c4e6"
      },
      "execution_count": null,
      "outputs": [
        {
          "output_type": "execute_result",
          "data": {
            "text/plain": [
              "10"
            ]
          },
          "metadata": {},
          "execution_count": 167
        }
      ]
    },
    {
      "cell_type": "markdown",
      "source": [
        "## *ndarray.dtype*\n",
        "\n",
        "Retorna o tipo de dados dos elementos do array."
      ],
      "metadata": {
        "id": "7fO4web_53dg"
      }
    },
    {
      "cell_type": "code",
      "source": [
        "dados.dtype"
      ],
      "metadata": {
        "colab": {
          "base_uri": "https://localhost:8080/"
        },
        "id": "VW5U5uB055ZA",
        "outputId": "aa69c390-b7e4-407f-bbbb-ff04ff4e0e38"
      },
      "execution_count": null,
      "outputs": [
        {
          "output_type": "execute_result",
          "data": {
            "text/plain": [
              "dtype('float64')"
            ]
          },
          "metadata": {},
          "execution_count": 168
        }
      ]
    },
    {
      "cell_type": "markdown",
      "source": [
        "## *ndarray.T*\n",
        "\n",
        "Retorna o array transposto, isto é, converte linhas em colunas e vice versa."
      ],
      "metadata": {
        "id": "_aa1OtqR57Xr"
      }
    },
    {
      "cell_type": "code",
      "source": [
        "dados.T"
      ],
      "metadata": {
        "colab": {
          "base_uri": "https://localhost:8080/"
        },
        "id": "b8J0QQXh59ZX",
        "outputId": "96b584e2-fd2c-4a8b-d830-93f272e8468c"
      },
      "execution_count": null,
      "outputs": [
        {
          "output_type": "execute_result",
          "data": {
            "text/plain": [
              "array([[44410.,  2003.],\n",
              "       [ 5712.,  1991.],\n",
              "       [37123.,  1990.],\n",
              "       [    0.,  2019.],\n",
              "       [25757.,  2006.]])"
            ]
          },
          "metadata": {},
          "execution_count": 169
        }
      ]
    },
    {
      "cell_type": "markdown",
      "source": [
        "## *ndarray.tolist()*\n",
        "\n",
        "Retorna o array como uma lista Python."
      ],
      "metadata": {
        "id": "CLw69-qk5-7o"
      }
    },
    {
      "cell_type": "code",
      "source": [
        "dados.tolist()"
      ],
      "metadata": {
        "colab": {
          "base_uri": "https://localhost:8080/"
        },
        "id": "KDaRn_Zj6A2R",
        "outputId": "f8b0571e-4ba4-4f22-da50-b452d8cbc685"
      },
      "execution_count": null,
      "outputs": [
        {
          "output_type": "execute_result",
          "data": {
            "text/plain": [
              "[[44410.0, 5712.0, 37123.0, 0.0, 25757.0],\n",
              " [2003.0, 1991.0, 1990.0, 2019.0, 2006.0]]"
            ]
          },
          "metadata": {},
          "execution_count": 170
        }
      ]
    },
    {
      "cell_type": "markdown",
      "source": [
        "## *ndarray.reshape(shape[, order])*\n",
        "\n",
        "Retorna um array que contém os mesmos dados com uma nova forma."
      ],
      "metadata": {
        "id": "PnJf0_m-6IdM"
      }
    },
    {
      "cell_type": "code",
      "source": [
        "contador = np.arange(10)\n",
        "contador"
      ],
      "metadata": {
        "colab": {
          "base_uri": "https://localhost:8080/"
        },
        "id": "Gy7gqNv36Ku3",
        "outputId": "34153a89-5691-4b24-b302-bfe1876d3cfe"
      },
      "execution_count": null,
      "outputs": [
        {
          "output_type": "execute_result",
          "data": {
            "text/plain": [
              "array([0, 1, 2, 3, 4, 5, 6, 7, 8, 9])"
            ]
          },
          "metadata": {},
          "execution_count": 171
        }
      ]
    },
    {
      "cell_type": "code",
      "source": [
        "#transformando nossa variável para ter 5 linhas e 2 colunas\n",
        "#importante a variável ter a divisão certa\n",
        "contador.reshape((5,2))"
      ],
      "metadata": {
        "colab": {
          "base_uri": "https://localhost:8080/"
        },
        "id": "pkaSEQa16PxH",
        "outputId": "9f0793a5-e5c1-4114-ece1-d7bf2bedc944"
      },
      "execution_count": null,
      "outputs": [
        {
          "output_type": "execute_result",
          "data": {
            "text/plain": [
              "array([[0, 1],\n",
              "       [2, 3],\n",
              "       [4, 5],\n",
              "       [6, 7],\n",
              "       [8, 9]])"
            ]
          },
          "metadata": {},
          "execution_count": 173
        }
      ]
    },
    {
      "cell_type": "code",
      "source": [
        "#alterando a ordem de como fazemos a indexação\n",
        "contador.reshape((5,2), order = 'F')"
      ],
      "metadata": {
        "colab": {
          "base_uri": "https://localhost:8080/"
        },
        "id": "zRl0g1ja6d1j",
        "outputId": "7d4e768f-0200-434c-d44e-5130622eb058"
      },
      "execution_count": null,
      "outputs": [
        {
          "output_type": "execute_result",
          "data": {
            "text/plain": [
              "array([[0, 5],\n",
              "       [1, 6],\n",
              "       [2, 7],\n",
              "       [3, 8],\n",
              "       [4, 9]])"
            ]
          },
          "metadata": {},
          "execution_count": 174
        }
      ]
    },
    {
      "cell_type": "code",
      "source": [
        "#temos duas listas \n",
        "km = [44410, 5712, 37123, 0, 25757]\n",
        "anos = [2003, 1991, 1990, 2019, 2006]\n",
        "\n",
        "#podemos querer uma lista com os itens acima\n",
        "info_carros = km + anos\n",
        "info_carros #no entanto, a lista retornada está misturando os itens"
      ],
      "metadata": {
        "colab": {
          "base_uri": "https://localhost:8080/"
        },
        "id": "nYwYTqdh6W8P",
        "outputId": "0bd2c716-7c01-4eb9-f0c8-80b9f095670f"
      },
      "execution_count": null,
      "outputs": [
        {
          "output_type": "execute_result",
          "data": {
            "text/plain": [
              "[44410, 5712, 37123, 0, 25757, 2003, 1991, 1990, 2019, 2006]"
            ]
          },
          "metadata": {},
          "execution_count": 178
        }
      ]
    },
    {
      "cell_type": "code",
      "source": [
        "#criando um array com a lista e fazendo um reshape com o array criado\n",
        "np.array(info_carros).reshape(2,5)\n",
        "\n",
        "#com o comando acima, vimos que já conseguimos deixar o array de forma organizada e usavel"
      ],
      "metadata": {
        "colab": {
          "base_uri": "https://localhost:8080/"
        },
        "id": "oNCUR8TQ6265",
        "outputId": "1d8a49b3-2321-4493-acba-b2a308c5557f"
      },
      "execution_count": null,
      "outputs": [
        {
          "output_type": "execute_result",
          "data": {
            "text/plain": [
              "array([[44410,  5712, 37123,     0, 25757],\n",
              "       [ 2003,  1991,  1990,  2019,  2006]])"
            ]
          },
          "metadata": {},
          "execution_count": 182
        }
      ]
    },
    {
      "cell_type": "code",
      "source": [
        "#podemos visualizar de uma forma diferente, com a kilometragem um do lado do outro\n",
        "#fazemos da seguinte forma: criamos o reshape com 5 linhas, 2 colunas e mudamos a ordem com order = 'F'\n",
        "np.array(info_carros).reshape(5,2, order = 'F')"
      ],
      "metadata": {
        "colab": {
          "base_uri": "https://localhost:8080/"
        },
        "id": "SdzbNjNN7EeM",
        "outputId": "07238217-fa2c-4775-c8fa-b08cbc0151a2"
      },
      "execution_count": null,
      "outputs": [
        {
          "output_type": "execute_result",
          "data": {
            "text/plain": [
              "array([[44410,  2003],\n",
              "       [ 5712,  1991],\n",
              "       [37123,  1990],\n",
              "       [    0,  2019],\n",
              "       [25757,  2006]])"
            ]
          },
          "metadata": {},
          "execution_count": 185
        }
      ]
    },
    {
      "cell_type": "markdown",
      "source": [
        "## *ndarray.resize(new_shape[, refcheck])*\n",
        "\n",
        "Altera a forma e o tamanho do array."
      ],
      "metadata": {
        "id": "jHqzFQcU7kF4"
      }
    },
    {
      "cell_type": "code",
      "source": [
        "dados_new = dados.copy()\n",
        "dados_new"
      ],
      "metadata": {
        "colab": {
          "base_uri": "https://localhost:8080/"
        },
        "id": "PEH-44yy7l4d",
        "outputId": "809af5b8-b873-42ef-db79-26cdf84cc5fc"
      },
      "execution_count": null,
      "outputs": [
        {
          "output_type": "execute_result",
          "data": {
            "text/plain": [
              "array([[44410.,  5712., 37123.,     0., 25757.],\n",
              "       [ 2003.,  1991.,  1990.,  2019.,  2006.]])"
            ]
          },
          "metadata": {},
          "execution_count": 186
        }
      ]
    },
    {
      "cell_type": "code",
      "source": [
        "#vamos inserir mais uma linha em dados_new\n",
        "dados_new.resize((3,5), refcheck = False)\n",
        "dados_new\n",
        "\n",
        "#utilizando refcheck = False, pois com dados referenciados o Python da um erro se não passamos esse parâmetro"
      ],
      "metadata": {
        "colab": {
          "base_uri": "https://localhost:8080/"
        },
        "id": "YZzhCOsx7tXm",
        "outputId": "87a51891-9769-4c43-e69a-4196dcd337a5"
      },
      "execution_count": null,
      "outputs": [
        {
          "output_type": "execute_result",
          "data": {
            "text/plain": [
              "array([[44410.,  5712., 37123.,     0., 25757.],\n",
              "       [ 2003.,  1991.,  1990.,  2019.,  2006.],\n",
              "       [    0.,     0.,     0.,     0.,     0.]])"
            ]
          },
          "metadata": {},
          "execution_count": 189
        }
      ]
    },
    {
      "cell_type": "code",
      "source": [
        "#com a linha criada vamos calcular a kilometragem média e preservar nessa linha:\n",
        "dados_new[2] = dados_new[0] / (2022 - dados_new[1])\n",
        "dados_new"
      ],
      "metadata": {
        "colab": {
          "base_uri": "https://localhost:8080/"
        },
        "id": "ASQs4hnG8BtL",
        "outputId": "a2c16db9-806e-4ee8-e39f-b116010fd4ff"
      },
      "execution_count": null,
      "outputs": [
        {
          "output_type": "execute_result",
          "data": {
            "text/plain": [
              "array([[44410.        ,  5712.        , 37123.        ,     0.        ,\n",
              "        25757.        ],\n",
              "       [ 2003.        ,  1991.        ,  1990.        ,  2019.        ,\n",
              "         2006.        ],\n",
              "       [ 2337.36842105,   184.25806452,  1160.09375   ,     0.        ,\n",
              "         1609.8125    ]])"
            ]
          },
          "metadata": {},
          "execution_count": 192
        }
      ]
    },
    {
      "cell_type": "markdown",
      "source": [
        "# Estatísticas com arrays Numpy\n",
        "\n",
        "https://numpy.org/doc/1.16/reference/arrays.ndarray.html#calculation\n",
        "\n",
        "e\n",
        "\n",
        "https://numpy.org/doc/1.16/reference/routines.statistics.html\n",
        "\n",
        "e\n",
        "\n",
        "https://numpy.org/doc/1.16/reference/routines.math.html"
      ],
      "metadata": {
        "id": "hPBNKifq8ZxT"
      }
    },
    {
      "cell_type": "code",
      "source": [
        "#trazendo os dados que estavam externos\n",
        "anos = np.loadtxt(fname = \"carros-anos.txt\", dtype = int)\n",
        "km = np.loadtxt(fname = \"carros-km.txt\")\n",
        "valor = np.loadtxt(fname = \"carros-valor.txt\")"
      ],
      "metadata": {
        "id": "lNH181IM9vIP"
      },
      "execution_count": null,
      "outputs": []
    },
    {
      "cell_type": "code",
      "source": [
        "anos.shape"
      ],
      "metadata": {
        "colab": {
          "base_uri": "https://localhost:8080/"
        },
        "id": "pFZNKjPL9yQI",
        "outputId": "2c38f6a9-d4f7-4f18-e664-2f8d5b3e5b2b"
      },
      "execution_count": null,
      "outputs": [
        {
          "output_type": "execute_result",
          "data": {
            "text/plain": [
              "(258,)"
            ]
          },
          "metadata": {},
          "execution_count": 195
        }
      ]
    },
    {
      "cell_type": "code",
      "source": [
        "#criando um array com array externos, por meio do column_stack\n",
        "#a função column_stack transforma arrays unidimensionais em colunas em um array\n",
        "\n",
        "dataset = np.column_stack((anos, km, valor))\n",
        "dataset"
      ],
      "metadata": {
        "id": "6ijjmpDB95id"
      },
      "execution_count": null,
      "outputs": []
    },
    {
      "cell_type": "code",
      "source": [
        "#vendo o tamanho do nosso array\n",
        "dataset.shape"
      ],
      "metadata": {
        "colab": {
          "base_uri": "https://localhost:8080/"
        },
        "id": "aLO-eLT_-KO7",
        "outputId": "0b53773d-232c-4de2-d8e8-ccab7ba06b01"
      },
      "execution_count": null,
      "outputs": [
        {
          "output_type": "execute_result",
          "data": {
            "text/plain": [
              "(258, 3)"
            ]
          },
          "metadata": {},
          "execution_count": 199
        }
      ]
    },
    {
      "cell_type": "markdown",
      "source": [
        "## *np.mean()*\n",
        "\n",
        "Retorna a média dos elementos do array ao longo do eixo especificado."
      ],
      "metadata": {
        "id": "sGgFH--g-Tm_"
      }
    },
    {
      "cell_type": "code",
      "source": [
        "#calculando a média de cada uma das colunas\n",
        "#para trabalhar as colunas, utilizamos axis = 0, para linhas axis = 1\n",
        "np.mean(dataset, axis = 0)"
      ],
      "metadata": {
        "colab": {
          "base_uri": "https://localhost:8080/"
        },
        "id": "GYCZW1ZF-STQ",
        "outputId": "2d0e21be-3c74-4522-a18c-9461cc2f2d22"
      },
      "execution_count": null,
      "outputs": [
        {
          "output_type": "execute_result",
          "data": {
            "text/plain": [
              "array([ 2007.51162791, 44499.41472868, 98960.51310078])"
            ]
          },
          "metadata": {},
          "execution_count": 202
        }
      ]
    },
    {
      "cell_type": "code",
      "source": [
        "#no entanto, não faz sentido fazermos a média dos anos, então tiramos ela do calculo da média\n",
        "#vamos calcular apenas a kilometragem média e o valor médio\n",
        "np.mean(dataset[:,1:], axis = 0)"
      ],
      "metadata": {
        "colab": {
          "base_uri": "https://localhost:8080/"
        },
        "id": "jK3SNi8P-lVD",
        "outputId": "87190e50-d7b3-402c-8d1d-622a95ef64b6"
      },
      "execution_count": null,
      "outputs": [
        {
          "output_type": "execute_result",
          "data": {
            "text/plain": [
              "array([44499.41472868, 98960.51310078])"
            ]
          },
          "metadata": {},
          "execution_count": 204
        }
      ]
    },
    {
      "cell_type": "markdown",
      "source": [
        "## *np.std()*\n",
        "\n",
        "Retorna o desvio padrão dos elementos do array ao longo do eixo especificado."
      ],
      "metadata": {
        "id": "4hAQcwjH_KZJ"
      }
    },
    {
      "cell_type": "code",
      "source": [
        "#calculando o desvio padrão das colunas de km e valor\n",
        "np.std(dataset[:,1:], axis = 0)"
      ],
      "metadata": {
        "colab": {
          "base_uri": "https://localhost:8080/"
        },
        "id": "P2GDXJwU_Aqr",
        "outputId": "3ee774a2-6342-4de5-bc54-ecc9777e31a6"
      },
      "execution_count": null,
      "outputs": [
        {
          "output_type": "execute_result",
          "data": {
            "text/plain": [
              "array([39859.82699005, 29754.10115039])"
            ]
          },
          "metadata": {},
          "execution_count": 207
        }
      ]
    },
    {
      "cell_type": "markdown",
      "source": [
        "## *ndarray.sum()*\n",
        "\n",
        "Retorna a soma dos elementos do array ao longo do eixo especificado."
      ],
      "metadata": {
        "id": "5r2Q0vQ3_a7_"
      }
    },
    {
      "cell_type": "code",
      "source": [
        "#fazendo o somatório de cada coluna\n",
        "dataset.sum(axis = 0)"
      ],
      "metadata": {
        "colab": {
          "base_uri": "https://localhost:8080/"
        },
        "id": "ROvs4q_M_ayp",
        "outputId": "37ae3338-7876-475b-9b22-b4c21c05c085"
      },
      "execution_count": null,
      "outputs": [
        {
          "output_type": "execute_result",
          "data": {
            "text/plain": [
              "array([  517938.        , 11480849.        , 25531812.37999999])"
            ]
          },
          "metadata": {},
          "execution_count": 209
        }
      ]
    },
    {
      "cell_type": "code",
      "source": [
        "#fazendo o somatório dos valores:\n",
        "dataset[:, 2].sum()"
      ],
      "metadata": {
        "colab": {
          "base_uri": "https://localhost:8080/"
        },
        "id": "reZz00ST_j3k",
        "outputId": "7a489ed4-4a81-4f18-8f4b-c1682adb1721"
      },
      "execution_count": null,
      "outputs": [
        {
          "output_type": "execute_result",
          "data": {
            "text/plain": [
              "25531812.38"
            ]
          },
          "metadata": {},
          "execution_count": 211
        }
      ]
    },
    {
      "cell_type": "markdown",
      "source": [
        "## *np.sum()*\n",
        "\n",
        "Retorna a soma dos elementos do array ao longo do eixo especificado."
      ],
      "metadata": {
        "id": "xlvOnFLF_yA5"
      }
    },
    {
      "cell_type": "code",
      "source": [
        "#somatório de cada coluna\n",
        "np.sum(dataset, axis = 0)"
      ],
      "metadata": {
        "colab": {
          "base_uri": "https://localhost:8080/"
        },
        "id": "pmbrnDel_xcK",
        "outputId": "6013c91e-5cf2-4c5d-93ef-630dd896c1fe"
      },
      "execution_count": null,
      "outputs": [
        {
          "output_type": "execute_result",
          "data": {
            "text/plain": [
              "array([  517938.        , 11480849.        , 25531812.37999999])"
            ]
          },
          "metadata": {},
          "execution_count": 215
        }
      ]
    },
    {
      "cell_type": "code",
      "source": [
        "#somatório da coluna de valores\n",
        "np.sum(dataset[:, 2], axis = 0)"
      ],
      "metadata": {
        "colab": {
          "base_uri": "https://localhost:8080/"
        },
        "id": "ajy3Iz09_4hr",
        "outputId": "4b90c98a-3d6e-4dc0-9878-40a1a2d49a38"
      },
      "execution_count": null,
      "outputs": [
        {
          "output_type": "execute_result",
          "data": {
            "text/plain": [
              "25531812.38"
            ]
          },
          "metadata": {},
          "execution_count": 214
        }
      ]
    }
  ]
}
